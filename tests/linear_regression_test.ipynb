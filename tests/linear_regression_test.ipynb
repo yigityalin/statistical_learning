{
 "cells": [
  {
   "cell_type": "code",
   "execution_count": 1,
   "outputs": [],
   "source": [
    "from algorithms.linear import LinearRegression\n",
    "from algorithms.model_selection import DEFAULT_METRICS, KFold\n",
    "from algorithms.preprocessing import load_and_preprocess_dataset"
   ],
   "metadata": {
    "collapsed": false
   }
  },
  {
   "cell_type": "code",
   "execution_count": 2,
   "outputs": [],
   "source": [
    "X_train, y_train, X_test, y_test = load_and_preprocess_dataset(normalize_target=False)"
   ],
   "metadata": {
    "collapsed": false
   }
  },
  {
   "cell_type": "code",
   "execution_count": 3,
   "outputs": [],
   "source": [
    "k = 5\n",
    "model = LinearRegression(lambda_=0.01)"
   ],
   "metadata": {
    "collapsed": false
   }
  },
  {
   "cell_type": "code",
   "execution_count": 4,
   "outputs": [],
   "source": [
    "kfold = KFold(k=k, model=model).cv(X_train, y_train, max_iter=1e4)"
   ],
   "metadata": {
    "collapsed": false
   }
  },
  {
   "cell_type": "code",
   "execution_count": 5,
   "outputs": [],
   "source": [
    "train_scores, valid_scores = kfold.get_scores(as_dataframe=True)"
   ],
   "metadata": {
    "collapsed": false
   }
  },
  {
   "cell_type": "code",
   "execution_count": 6,
   "outputs": [
    {
     "name": "stdout",
     "output_type": "stream",
     "text": [
      "5-fold cross validation scores on train dataset:\n"
     ]
    },
    {
     "data": {
      "text/plain": "               MSE          MAE      MAPE        R2\nmean  1.432266e+07  2421.193939  0.284709  0.858265\nstd   4.164515e+05    38.579297  0.004364  0.002096",
      "text/html": "<div>\n<style scoped>\n    .dataframe tbody tr th:only-of-type {\n        vertical-align: middle;\n    }\n\n    .dataframe tbody tr th {\n        vertical-align: top;\n    }\n\n    .dataframe thead th {\n        text-align: right;\n    }\n</style>\n<table border=\"1\" class=\"dataframe\">\n  <thead>\n    <tr style=\"text-align: right;\">\n      <th></th>\n      <th>MSE</th>\n      <th>MAE</th>\n      <th>MAPE</th>\n      <th>R2</th>\n    </tr>\n  </thead>\n  <tbody>\n    <tr>\n      <th>mean</th>\n      <td>1.432266e+07</td>\n      <td>2421.193939</td>\n      <td>0.284709</td>\n      <td>0.858265</td>\n    </tr>\n    <tr>\n      <th>std</th>\n      <td>4.164515e+05</td>\n      <td>38.579297</td>\n      <td>0.004364</td>\n      <td>0.002096</td>\n    </tr>\n  </tbody>\n</table>\n</div>"
     },
     "execution_count": 6,
     "metadata": {},
     "output_type": "execute_result"
    }
   ],
   "source": [
    "print(f'{k}-fold cross validation scores on train dataset:')\n",
    "train_scores"
   ],
   "metadata": {
    "collapsed": false
   }
  },
  {
   "cell_type": "code",
   "execution_count": 7,
   "outputs": [
    {
     "name": "stdout",
     "output_type": "stream",
     "text": [
      "5-fold cross validation scores on validation dataset:\n"
     ]
    },
    {
     "data": {
      "text/plain": "               MSE          MAE      MAPE        R2\nmean  1.453857e+07  2433.652719  0.286105  0.857205\nstd   1.718420e+06    23.859414  0.011211  0.008668",
      "text/html": "<div>\n<style scoped>\n    .dataframe tbody tr th:only-of-type {\n        vertical-align: middle;\n    }\n\n    .dataframe tbody tr th {\n        vertical-align: top;\n    }\n\n    .dataframe thead th {\n        text-align: right;\n    }\n</style>\n<table border=\"1\" class=\"dataframe\">\n  <thead>\n    <tr style=\"text-align: right;\">\n      <th></th>\n      <th>MSE</th>\n      <th>MAE</th>\n      <th>MAPE</th>\n      <th>R2</th>\n    </tr>\n  </thead>\n  <tbody>\n    <tr>\n      <th>mean</th>\n      <td>1.453857e+07</td>\n      <td>2433.652719</td>\n      <td>0.286105</td>\n      <td>0.857205</td>\n    </tr>\n    <tr>\n      <th>std</th>\n      <td>1.718420e+06</td>\n      <td>23.859414</td>\n      <td>0.011211</td>\n      <td>0.008668</td>\n    </tr>\n  </tbody>\n</table>\n</div>"
     },
     "execution_count": 7,
     "metadata": {},
     "output_type": "execute_result"
    }
   ],
   "source": [
    "print(f'{k}-fold cross validation scores on validation dataset:')\n",
    "valid_scores"
   ],
   "metadata": {
    "collapsed": false
   }
  },
  {
   "cell_type": "code",
   "execution_count": 8,
   "outputs": [],
   "source": [
    "model = model.fit(X_train, y_train, max_iter=1e5)"
   ],
   "metadata": {
    "collapsed": false
   }
  },
  {
   "cell_type": "code",
   "execution_count": 9,
   "outputs": [],
   "source": [
    "y_test_pred = model.predict(X_test)"
   ],
   "metadata": {
    "collapsed": false
   }
  },
  {
   "cell_type": "code",
   "execution_count": 10,
   "outputs": [
    {
     "name": "stdout",
     "output_type": "stream",
     "text": [
      "MSE: 48469995.03376441\n",
      "MAE: 5040.8192678291225\n",
      "MAPE: 0.6614331043675565\n",
      "R2: 0.6387374136380735\n"
     ]
    }
   ],
   "source": [
    "for metric, metric_fn in DEFAULT_METRICS.items():\n",
    "    print(f'{metric}: {metric_fn(y_test, y_test_pred)}')"
   ],
   "metadata": {
    "collapsed": false
   }
  }
 ],
 "metadata": {
  "kernelspec": {
   "display_name": "Python 3",
   "language": "python",
   "name": "python3"
  },
  "language_info": {
   "codemirror_mode": {
    "name": "ipython",
    "version": 2
   },
   "file_extension": ".py",
   "mimetype": "text/x-python",
   "name": "python",
   "nbconvert_exporter": "python",
   "pygments_lexer": "ipython2",
   "version": "2.7.6"
  }
 },
 "nbformat": 4,
 "nbformat_minor": 0
}
