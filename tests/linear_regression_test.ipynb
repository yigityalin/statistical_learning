{
 "cells": [
  {
   "cell_type": "code",
   "execution_count": 17,
   "outputs": [],
   "source": [
    "from itertools import product\n",
    "import pickle\n",
    "\n",
    "import numpy as np\n",
    "\n",
    "from algorithms.linear import LinearRegression\n",
    "from algorithms.preprocessing import load_and_preprocess_dataset\n",
    "import config"
   ],
   "metadata": {
    "collapsed": false
   }
  },
  {
   "cell_type": "code",
   "execution_count": 18,
   "outputs": [],
   "source": [
    "ridge_logs_dir = config.LOGS_DIR / 'ridge'\n",
    "ridge_logs_dir.mkdir(exist_ok=True)"
   ],
   "metadata": {
    "collapsed": false
   }
  },
  {
   "cell_type": "code",
   "execution_count": 19,
   "outputs": [],
   "source": [
    "X, y, X_test, y_test = load_and_preprocess_dataset()"
   ],
   "metadata": {
    "collapsed": false
   }
  },
  {
   "cell_type": "code",
   "execution_count": 20,
   "outputs": [],
   "source": [
    "X = np.asarray(X)\n",
    "y = np.asarray(y)\n",
    "X_test = np.asarray(X_test)\n",
    "y_test = np.asarray(y_test)"
   ],
   "metadata": {
    "collapsed": false
   }
  },
  {
   "cell_type": "code",
   "execution_count": 21,
   "outputs": [],
   "source": [
    "alphas = [1e-2, 5e-3, 1e-3, 5e-4]"
   ],
   "metadata": {
    "collapsed": false
   }
  },
  {
   "cell_type": "code",
   "execution_count": 22,
   "outputs": [],
   "source": [
    "lambdas = [1e-2, 1e-3, 1e-4, 0]"
   ],
   "metadata": {
    "collapsed": false
   }
  },
  {
   "cell_type": "code",
   "execution_count": 23,
   "outputs": [],
   "source": [
    "batch_sizes = [32, 64]"
   ],
   "metadata": {
    "collapsed": false
   }
  },
  {
   "cell_type": "code",
   "execution_count": 24,
   "outputs": [
    {
     "name": "stderr",
     "output_type": "stream",
     "text": [
      "alpha=0.01, lambda=0.01, batch_size=32:  13%|█▎        | 63/500 [00:05<00:39, 11.14it/s, train_mse=0.1425724, valid_mse=0.1305304]\n",
      "alpha=0.01, lambda=0.01, batch_size=32:  17%|█▋        | 83/500 [00:07<00:36, 11.34it/s, train_mse=0.1418094, valid_mse=0.1465204]\n",
      "alpha=0.01, lambda=0.01, batch_size=32: 100%|██████████| 500/500 [00:47<00:00, 10.48it/s, train_mse=0.1434628, valid_mse=0.1246781]\n",
      "alpha=0.01, lambda=0.01, batch_size=32:  12%|█▏        | 59/500 [00:05<00:44,  9.91it/s, train_mse=0.1374599, valid_mse=0.1491288]\n",
      "alpha=0.01, lambda=0.01, batch_size=32: 100%|██████████| 500/500 [00:40<00:00, 12.30it/s, train_mse=0.1338729, valid_mse=0.1607328]\n",
      "alpha=0.01, lambda=0.01, batch_size=64:  15%|█▍        | 73/500 [00:03<00:18, 22.86it/s, train_mse=0.1455581, valid_mse=0.1319622]\n",
      "alpha=0.01, lambda=0.01, batch_size=64:  16%|█▌        | 80/500 [00:03<00:18, 22.85it/s, train_mse=0.1464755, valid_mse=0.1546311]\n",
      "alpha=0.01, lambda=0.01, batch_size=64: 100%|██████████| 500/500 [00:22<00:00, 22.39it/s, train_mse=0.1424822, valid_mse=0.1235099]\n",
      "alpha=0.01, lambda=0.01, batch_size=64:  17%|█▋        | 84/500 [00:03<00:19, 21.48it/s, train_mse=0.1400889, valid_mse=0.1507428]\n",
      "alpha=0.01, lambda=0.01, batch_size=64:  15%|█▍        | 74/500 [00:03<00:17, 23.76it/s, train_mse=0.1350584, valid_mse=0.1667880]\n",
      "alpha=0.01, lambda=0.001, batch_size=32:  13%|█▎        | 66/500 [00:04<00:32, 13.35it/s, train_mse=0.1436818, valid_mse=0.1298810]\n",
      "alpha=0.01, lambda=0.001, batch_size=32:  15%|█▍        | 74/500 [00:05<00:29, 14.68it/s, train_mse=0.1407439, valid_mse=0.1449571]\n",
      "alpha=0.01, lambda=0.001, batch_size=32: 100%|██████████| 500/500 [00:35<00:00, 13.96it/s, train_mse=0.1426754, valid_mse=0.1244238]\n",
      "alpha=0.01, lambda=0.001, batch_size=32:  19%|█▉        | 96/500 [00:06<00:27, 14.58it/s, train_mse=0.1414031, valid_mse=0.1514168]\n",
      "alpha=0.01, lambda=0.001, batch_size=32: 100%|██████████| 500/500 [00:32<00:00, 15.24it/s, train_mse=0.1342197, valid_mse=0.1629844]\n",
      "alpha=0.01, lambda=0.001, batch_size=64:  18%|█▊        | 92/500 [00:03<00:15, 26.07it/s, train_mse=0.1484917, valid_mse=0.1330299]\n",
      "alpha=0.01, lambda=0.001, batch_size=64:  14%|█▍        | 70/500 [00:02<00:18, 23.83it/s, train_mse=0.1427407, valid_mse=0.1479390]\n",
      "alpha=0.01, lambda=0.001, batch_size=64: 100%|██████████| 500/500 [00:19<00:00, 26.01it/s, train_mse=0.1439459, valid_mse=0.1246677]\n",
      "alpha=0.01, lambda=0.001, batch_size=64:  15%|█▌        | 77/500 [00:02<00:16, 26.11it/s, train_mse=0.1393798, valid_mse=0.1495624]\n",
      "alpha=0.01, lambda=0.001, batch_size=64:  23%|██▎       | 117/500 [00:04<00:14, 26.50it/s, train_mse=0.1369734, valid_mse=0.1724853]\n",
      "alpha=0.01, lambda=0.0001, batch_size=32:  15%|█▌        | 75/500 [00:05<00:30, 14.02it/s, train_mse=0.1458601, valid_mse=0.1304887]\n",
      "alpha=0.01, lambda=0.0001, batch_size=32:  17%|█▋        | 83/500 [00:05<00:29, 14.01it/s, train_mse=0.1416798, valid_mse=0.1471440]\n",
      "alpha=0.01, lambda=0.0001, batch_size=32: 100%|██████████| 500/500 [00:36<00:00, 13.59it/s, train_mse=0.1425781, valid_mse=0.1233225]\n",
      "alpha=0.01, lambda=0.0001, batch_size=32:  21%|██        | 103/500 [00:07<00:30, 13.12it/s, train_mse=0.1394345, valid_mse=0.1505295]\n",
      "alpha=0.01, lambda=0.0001, batch_size=32: 100%|██████████| 500/500 [00:40<00:00, 12.28it/s, train_mse=0.1343847, valid_mse=0.1636134]\n",
      "alpha=0.01, lambda=0.0001, batch_size=64:  14%|█▍        | 69/500 [00:03<00:19, 21.75it/s, train_mse=0.1468208, valid_mse=0.1345081]\n",
      "alpha=0.01, lambda=0.0001, batch_size=64:  15%|█▍        | 73/500 [00:03<00:18, 23.02it/s, train_mse=0.1407322, valid_mse=0.1508731]\n",
      "alpha=0.01, lambda=0.0001, batch_size=64: 100%|██████████| 500/500 [00:21<00:00, 22.83it/s, train_mse=0.1433884, valid_mse=0.1235349]\n",
      "alpha=0.01, lambda=0.0001, batch_size=64:  16%|█▌        | 81/500 [00:04<00:21, 19.23it/s, train_mse=0.1426859, valid_mse=0.1524711]\n",
      "alpha=0.01, lambda=0.0001, batch_size=64:  23%|██▎       | 114/500 [00:05<00:17, 21.94it/s, train_mse=0.1379466, valid_mse=0.1711853]\n",
      "alpha=0.01, lambda=0, batch_size=32:  13%|█▎        | 66/500 [00:04<00:32, 13.52it/s, train_mse=0.1432205, valid_mse=0.1293357]\n",
      "alpha=0.01, lambda=0, batch_size=32:  19%|█▉        | 94/500 [00:06<00:28, 14.42it/s, train_mse=0.1398703, valid_mse=0.1438348]\n",
      "alpha=0.01, lambda=0, batch_size=32: 100%|██████████| 500/500 [00:33<00:00, 15.05it/s, train_mse=0.1449782, valid_mse=0.1242148]\n",
      "alpha=0.01, lambda=0, batch_size=32:  13%|█▎        | 66/500 [00:05<00:35, 12.14it/s, train_mse=0.1397386, valid_mse=0.1512981]\n",
      "alpha=0.01, lambda=0, batch_size=32: 100%|██████████| 500/500 [00:44<00:00, 11.15it/s, train_mse=0.1334910, valid_mse=0.1597381]\n",
      "alpha=0.01, lambda=0, batch_size=64:  16%|█▌        | 81/500 [00:04<00:24, 17.30it/s, train_mse=0.1498369, valid_mse=0.1351995]\n",
      "alpha=0.01, lambda=0, batch_size=64:  15%|█▌        | 75/500 [00:04<00:25, 16.77it/s, train_mse=0.1440679, valid_mse=0.1484171]\n",
      "alpha=0.01, lambda=0, batch_size=64: 100%|██████████| 500/500 [00:32<00:00, 15.53it/s, train_mse=0.1451931, valid_mse=0.1233777]\n",
      "alpha=0.01, lambda=0, batch_size=64:  15%|█▍        | 73/500 [00:04<00:26, 16.28it/s, train_mse=0.1440490, valid_mse=0.1536787]\n",
      "alpha=0.01, lambda=0, batch_size=64:  16%|█▌        | 81/500 [00:04<00:25, 16.33it/s, train_mse=0.1381589, valid_mse=0.1670033]\n",
      "alpha=0.005, lambda=0.01, batch_size=32:  14%|█▎        | 68/500 [00:07<00:48,  8.96it/s, train_mse=0.1472162, valid_mse=0.1310709]\n",
      "alpha=0.005, lambda=0.01, batch_size=32:  17%|█▋        | 84/500 [00:09<00:47,  8.77it/s, train_mse=0.1458446, valid_mse=0.1489246]\n",
      "alpha=0.005, lambda=0.01, batch_size=32:  33%|███▎      | 167/500 [00:25<00:50,  6.65it/s, train_mse=0.1458672, valid_mse=0.1235701]\n",
      "alpha=0.005, lambda=0.01, batch_size=32:  15%|█▍        | 73/500 [00:10<01:02,  6.79it/s, train_mse=0.1446034, valid_mse=0.1542436]\n",
      "alpha=0.005, lambda=0.01, batch_size=32:  19%|█▉        | 94/500 [00:11<00:49,  8.24it/s, train_mse=0.1372381, valid_mse=0.1712575]\n",
      "alpha=0.005, lambda=0.01, batch_size=64:  16%|█▌        | 78/500 [00:04<00:25, 16.66it/s, train_mse=0.1558884, valid_mse=0.1375441]\n",
      "alpha=0.005, lambda=0.01, batch_size=64:  15%|█▌        | 76/500 [00:04<00:22, 18.72it/s, train_mse=0.1482256, valid_mse=0.1519685]\n",
      "alpha=0.005, lambda=0.01, batch_size=64:  16%|█▋        | 82/500 [00:03<00:19, 21.90it/s, train_mse=0.1640698, valid_mse=0.1282303]\n",
      "alpha=0.005, lambda=0.01, batch_size=64:  17%|█▋        | 84/500 [00:03<00:17, 23.97it/s, train_mse=0.1456750, valid_mse=0.1565405]\n",
      "alpha=0.005, lambda=0.01, batch_size=64:  19%|█▊        | 93/500 [00:03<00:15, 25.53it/s, train_mse=0.1461434, valid_mse=0.1807610]\n",
      "alpha=0.005, lambda=0.001, batch_size=32:  14%|█▍        | 71/500 [00:04<00:28, 14.84it/s, train_mse=0.1487681, valid_mse=0.1325535]\n",
      "alpha=0.005, lambda=0.001, batch_size=32:  14%|█▍        | 72/500 [00:04<00:26, 16.08it/s, train_mse=0.1416285, valid_mse=0.1470389]\n",
      "alpha=0.005, lambda=0.001, batch_size=32: 100%|██████████| 500/500 [00:26<00:00, 18.60it/s, train_mse=0.1452838, valid_mse=0.1240579]\n",
      "alpha=0.005, lambda=0.001, batch_size=32:  16%|█▌        | 80/500 [00:04<00:21, 19.90it/s, train_mse=0.1405108, valid_mse=0.1517471]\n",
      "alpha=0.005, lambda=0.001, batch_size=32:  18%|█▊        | 92/500 [00:04<00:20, 20.08it/s, train_mse=0.1353335, valid_mse=0.1664165]\n",
      "alpha=0.005, lambda=0.001, batch_size=64:  15%|█▌        | 75/500 [00:01<00:11, 37.82it/s, train_mse=0.1508674, valid_mse=0.1384849]\n",
      "alpha=0.005, lambda=0.001, batch_size=64:  19%|█▉        | 95/500 [00:02<00:10, 38.11it/s, train_mse=0.1490663, valid_mse=0.1542605]\n",
      "alpha=0.005, lambda=0.001, batch_size=64:  20%|██        | 102/500 [00:02<00:10, 37.38it/s, train_mse=0.1612006, valid_mse=0.1300530]\n",
      "alpha=0.005, lambda=0.001, batch_size=64:  19%|█▉        | 96/500 [00:02<00:11, 36.48it/s, train_mse=0.1413435, valid_mse=0.1542567]\n",
      "alpha=0.005, lambda=0.001, batch_size=64:  22%|██▏       | 112/500 [00:03<00:10, 36.87it/s, train_mse=0.1416538, valid_mse=0.1798017]\n",
      "alpha=0.005, lambda=0.0001, batch_size=32:  15%|█▌        | 76/500 [00:03<00:21, 19.92it/s, train_mse=0.1484595, valid_mse=0.1350228]\n",
      "alpha=0.005, lambda=0.0001, batch_size=32:  17%|█▋        | 84/500 [00:04<00:21, 19.79it/s, train_mse=0.1424357, valid_mse=0.1497268]\n",
      "alpha=0.005, lambda=0.0001, batch_size=32: 100%|██████████| 500/500 [00:24<00:00, 20.41it/s, train_mse=0.1448319, valid_mse=0.1235987]\n",
      "alpha=0.005, lambda=0.0001, batch_size=32:  14%|█▍        | 70/500 [00:03<00:21, 20.35it/s, train_mse=0.1397290, valid_mse=0.1512060]\n",
      "alpha=0.005, lambda=0.0001, batch_size=32:  21%|██        | 103/500 [00:05<00:20, 19.55it/s, train_mse=0.1366047, valid_mse=0.1690017]\n",
      "alpha=0.005, lambda=0.0001, batch_size=64:  16%|█▌        | 81/500 [00:02<00:12, 34.00it/s, train_mse=0.1525433, valid_mse=0.1350790]\n",
      "alpha=0.005, lambda=0.0001, batch_size=64:  17%|█▋        | 87/500 [00:02<00:12, 34.31it/s, train_mse=0.1510499, valid_mse=0.1562321]\n",
      "alpha=0.005, lambda=0.0001, batch_size=64:  19%|█▉        | 96/500 [00:02<00:11, 35.50it/s, train_mse=0.1589064, valid_mse=0.1261145]\n",
      "alpha=0.005, lambda=0.0001, batch_size=64:  18%|█▊        | 90/500 [00:02<00:11, 34.59it/s, train_mse=0.1478780, valid_mse=0.1557976]\n",
      "alpha=0.005, lambda=0.0001, batch_size=64:  15%|█▌        | 77/500 [00:02<00:12, 34.33it/s, train_mse=0.1418022, valid_mse=0.1734520]\n",
      "alpha=0.005, lambda=0, batch_size=32:  14%|█▎        | 68/500 [00:03<00:22, 18.85it/s, train_mse=0.1447209, valid_mse=0.1305721]\n",
      "alpha=0.005, lambda=0, batch_size=32:  15%|█▌        | 75/500 [00:03<00:22, 18.96it/s, train_mse=0.1411062, valid_mse=0.1466410]\n",
      "alpha=0.005, lambda=0, batch_size=32: 100%|██████████| 500/500 [00:25<00:00, 19.74it/s, train_mse=0.1450094, valid_mse=0.1256398]\n",
      "alpha=0.005, lambda=0, batch_size=32:  16%|█▌        | 79/500 [00:04<00:22, 18.97it/s, train_mse=0.1401477, valid_mse=0.1507589]\n",
      "alpha=0.005, lambda=0, batch_size=32:  27%|██▋       | 137/500 [00:07<00:19, 19.01it/s, train_mse=0.1355057, valid_mse=0.1683904]\n",
      "alpha=0.005, lambda=0, batch_size=64:  16%|█▋        | 82/500 [00:02<00:12, 34.08it/s, train_mse=0.1493194, valid_mse=0.1370506]\n",
      "alpha=0.005, lambda=0, batch_size=64:  16%|█▋        | 82/500 [00:02<00:12, 34.75it/s, train_mse=0.1437140, valid_mse=0.1488959]\n",
      "alpha=0.005, lambda=0, batch_size=64:  18%|█▊        | 88/500 [00:02<00:11, 36.85it/s, train_mse=0.1529043, valid_mse=0.1214783]\n",
      "alpha=0.005, lambda=0, batch_size=64:  16%|█▌        | 81/500 [00:02<00:11, 35.60it/s, train_mse=0.1425811, valid_mse=0.1529985]\n",
      "alpha=0.005, lambda=0, batch_size=64:  18%|█▊        | 92/500 [00:02<00:11, 36.09it/s, train_mse=0.1439069, valid_mse=0.1806794]\n",
      "alpha=0.001, lambda=0.01, batch_size=32:  19%|█▊        | 93/500 [00:04<00:21, 19.16it/s, train_mse=0.1747140, valid_mse=0.1603365]\n",
      "alpha=0.001, lambda=0.01, batch_size=32:  22%|██▏       | 108/500 [00:05<00:19, 19.99it/s, train_mse=0.1550454, valid_mse=0.1654001]\n",
      "alpha=0.001, lambda=0.01, batch_size=32:  22%|██▏       | 112/500 [00:05<00:18, 21.02it/s, train_mse=0.1665754, valid_mse=0.1359654]\n",
      "alpha=0.001, lambda=0.01, batch_size=32:  20%|██        | 101/500 [00:04<00:18, 21.32it/s, train_mse=0.1537089, valid_mse=0.1635449]\n",
      "alpha=0.001, lambda=0.01, batch_size=32:  22%|██▏       | 109/500 [00:05<00:18, 21.27it/s, train_mse=0.1577304, valid_mse=0.1975247]\n",
      "alpha=0.001, lambda=0.01, batch_size=64:  31%|███▏      | 157/500 [00:04<00:09, 37.72it/s, train_mse=0.1785302, valid_mse=0.1704498]\n",
      "alpha=0.001, lambda=0.01, batch_size=64:  26%|██▌       | 128/500 [00:03<00:09, 38.73it/s, train_mse=0.1594937, valid_mse=0.1737828]\n",
      "alpha=0.001, lambda=0.01, batch_size=64:  30%|██▉       | 149/500 [00:03<00:09, 37.67it/s, train_mse=0.2051608, valid_mse=0.1629452]\n",
      "alpha=0.001, lambda=0.01, batch_size=64:  30%|███       | 150/500 [00:04<00:09, 35.72it/s, train_mse=0.1801640, valid_mse=0.1925450]\n",
      "alpha=0.001, lambda=0.01, batch_size=64:  29%|██▉       | 145/500 [00:04<00:10, 35.40it/s, train_mse=0.1777424, valid_mse=0.2154170]\n",
      "alpha=0.001, lambda=0.001, batch_size=32:  22%|██▏       | 110/500 [00:05<00:20, 18.94it/s, train_mse=0.1586567, valid_mse=0.1430186]\n",
      "alpha=0.001, lambda=0.001, batch_size=32:  24%|██▍       | 120/500 [00:06<00:20, 18.89it/s, train_mse=0.1828426, valid_mse=0.1952827]\n",
      "alpha=0.001, lambda=0.001, batch_size=32:  21%|██        | 103/500 [00:05<00:21, 18.25it/s, train_mse=0.1611549, valid_mse=0.1297822]\n",
      "alpha=0.001, lambda=0.001, batch_size=32:  22%|██▏       | 109/500 [00:05<00:20, 18.67it/s, train_mse=0.1494605, valid_mse=0.1649509]\n",
      "alpha=0.001, lambda=0.001, batch_size=32:  24%|██▎       | 118/500 [00:06<00:20, 18.23it/s, train_mse=0.1622809, valid_mse=0.2013292]\n",
      "alpha=0.001, lambda=0.001, batch_size=64:  30%|██▉       | 148/500 [00:04<00:10, 32.84it/s, train_mse=0.1699231, valid_mse=0.1591867]\n",
      "alpha=0.001, lambda=0.001, batch_size=64:  29%|██▉       | 145/500 [00:04<00:10, 32.98it/s, train_mse=0.1658727, valid_mse=0.1833969]\n",
      "alpha=0.001, lambda=0.001, batch_size=64:  26%|██▌       | 129/500 [00:03<00:11, 33.48it/s, train_mse=0.1765621, valid_mse=0.1379035]\n",
      "alpha=0.001, lambda=0.001, batch_size=64:  29%|██▉       | 144/500 [00:04<00:10, 34.74it/s, train_mse=0.1709333, valid_mse=0.1857463]\n",
      "alpha=0.001, lambda=0.001, batch_size=64:  25%|██▌       | 125/500 [00:03<00:10, 34.99it/s, train_mse=0.1512202, valid_mse=0.1751150]\n",
      "alpha=0.001, lambda=0.0001, batch_size=32:  23%|██▎       | 116/500 [00:05<00:19, 20.19it/s, train_mse=0.1635654, valid_mse=0.1456690]\n",
      "alpha=0.001, lambda=0.0001, batch_size=32:  20%|█▉        | 99/500 [00:05<00:20, 19.33it/s, train_mse=0.1624611, valid_mse=0.1668526]\n",
      "alpha=0.001, lambda=0.0001, batch_size=32:  21%|██        | 105/500 [00:05<00:20, 19.66it/s, train_mse=0.1667336, valid_mse=0.1266761]\n",
      "alpha=0.001, lambda=0.0001, batch_size=32:  24%|██▍       | 119/500 [00:05<00:19, 19.93it/s, train_mse=0.1591179, valid_mse=0.1717826]\n",
      "alpha=0.001, lambda=0.0001, batch_size=32:  22%|██▏       | 112/500 [00:05<00:19, 20.10it/s, train_mse=0.1466561, valid_mse=0.1822801]\n",
      "alpha=0.001, lambda=0.0001, batch_size=64:  29%|██▉       | 145/500 [00:04<00:09, 35.92it/s, train_mse=0.1719940, valid_mse=0.1589455]\n",
      "alpha=0.001, lambda=0.0001, batch_size=64:  25%|██▌       | 127/500 [00:03<00:10, 34.95it/s, train_mse=0.1849438, valid_mse=0.2012756]\n",
      "alpha=0.001, lambda=0.0001, batch_size=64:  23%|██▎       | 116/500 [00:03<00:11, 34.77it/s, train_mse=0.1644479, valid_mse=0.1432559]\n",
      "alpha=0.001, lambda=0.0001, batch_size=64:  28%|██▊       | 142/500 [00:04<00:10, 34.71it/s, train_mse=0.1774996, valid_mse=0.1956289]\n",
      "alpha=0.001, lambda=0.0001, batch_size=64:  26%|██▌       | 129/500 [00:03<00:10, 34.62it/s, train_mse=0.1611039, valid_mse=0.2110151]\n",
      "alpha=0.001, lambda=0, batch_size=32:  23%|██▎       | 113/500 [00:06<00:21, 18.28it/s, train_mse=0.1823455, valid_mse=0.1697151]\n",
      "alpha=0.001, lambda=0, batch_size=32:  23%|██▎       | 116/500 [00:06<00:20, 19.17it/s, train_mse=0.1574338, valid_mse=0.1686153]\n",
      "alpha=0.001, lambda=0, batch_size=32:  19%|█▉        | 96/500 [00:05<00:21, 18.69it/s, train_mse=0.1738222, valid_mse=0.1441000]\n",
      "alpha=0.001, lambda=0, batch_size=32:  23%|██▎       | 115/500 [00:06<00:20, 18.47it/s, train_mse=0.1873471, valid_mse=0.1896552]\n",
      "alpha=0.001, lambda=0, batch_size=32:  26%|██▌       | 130/500 [00:06<00:19, 19.27it/s, train_mse=0.1619426, valid_mse=0.2003553]\n",
      "alpha=0.001, lambda=0, batch_size=64:  26%|██▌       | 129/500 [00:03<00:10, 36.41it/s, train_mse=0.1595786, valid_mse=0.1527386]\n",
      "alpha=0.001, lambda=0, batch_size=64:  31%|███       | 155/500 [00:04<00:09, 34.72it/s, train_mse=0.1753433, valid_mse=0.1836163]\n",
      "alpha=0.001, lambda=0, batch_size=64:  26%|██▋       | 132/500 [00:03<00:10, 34.52it/s, train_mse=0.2133852, valid_mse=0.1507468]\n",
      "alpha=0.001, lambda=0, batch_size=64:  30%|███       | 150/500 [00:04<00:10, 34.42it/s, train_mse=0.1858026, valid_mse=0.2019503]\n",
      "alpha=0.001, lambda=0, batch_size=64:  30%|███       | 150/500 [00:04<00:10, 34.85it/s, train_mse=0.1678823, valid_mse=0.2186405]\n",
      "alpha=0.0005, lambda=0.01, batch_size=32:  28%|██▊       | 141/500 [00:07<00:18, 19.01it/s, train_mse=0.1761433, valid_mse=0.1639682]\n",
      "alpha=0.0005, lambda=0.01, batch_size=32:  31%|███       | 153/500 [00:07<00:18, 19.23it/s, train_mse=0.1724362, valid_mse=0.1887635]\n",
      "alpha=0.0005, lambda=0.01, batch_size=32:  29%|██▉       | 147/500 [00:07<00:18, 19.09it/s, train_mse=0.1986758, valid_mse=0.1462736]\n",
      "alpha=0.0005, lambda=0.01, batch_size=32:  28%|██▊       | 142/500 [00:07<00:19, 18.47it/s, train_mse=0.1781892, valid_mse=0.1981122]\n",
      "alpha=0.0005, lambda=0.01, batch_size=32:  27%|██▋       | 134/500 [00:07<00:19, 19.04it/s, train_mse=0.1681722, valid_mse=0.2008617]\n",
      "alpha=0.0005, lambda=0.01, batch_size=64:  34%|███▍      | 171/500 [00:04<00:09, 35.11it/s, train_mse=0.1772058, valid_mse=0.1621370]\n",
      "alpha=0.0005, lambda=0.01, batch_size=64:  39%|███▉      | 197/500 [00:05<00:08, 36.80it/s, train_mse=0.2245433, valid_mse=0.2346662]\n",
      "alpha=0.0005, lambda=0.01, batch_size=64:  35%|███▌      | 175/500 [00:04<00:08, 37.31it/s, train_mse=0.2058929, valid_mse=0.1637208]\n",
      "alpha=0.0005, lambda=0.01, batch_size=64:  32%|███▏      | 158/500 [00:04<00:09, 34.62it/s, train_mse=0.2161935, valid_mse=0.2274164]\n",
      "alpha=0.0005, lambda=0.01, batch_size=64:  36%|███▌      | 179/500 [00:05<00:09, 35.46it/s, train_mse=0.2143304, valid_mse=0.2483075]\n",
      "alpha=0.0005, lambda=0.001, batch_size=32:  26%|██▌       | 129/500 [00:06<00:17, 20.66it/s, train_mse=0.1631957, valid_mse=0.1521772]\n",
      "alpha=0.0005, lambda=0.001, batch_size=32:  32%|███▏      | 159/500 [00:07<00:17, 20.04it/s, train_mse=0.1850990, valid_mse=0.1928336]\n",
      "alpha=0.0005, lambda=0.001, batch_size=32:  33%|███▎      | 164/500 [00:07<00:16, 20.99it/s, train_mse=0.2069608, valid_mse=0.1547805]\n",
      "alpha=0.0005, lambda=0.001, batch_size=32:  30%|███       | 152/500 [00:07<00:16, 20.79it/s, train_mse=0.1802201, valid_mse=0.1965500]\n",
      "alpha=0.0005, lambda=0.001, batch_size=32:  26%|██▌       | 131/500 [00:06<00:18, 20.33it/s, train_mse=0.1570859, valid_mse=0.1998244]\n",
      "alpha=0.0005, lambda=0.001, batch_size=64:  35%|███▍      | 174/500 [00:04<00:08, 38.80it/s, train_mse=0.2446896, valid_mse=0.2457803]\n",
      "alpha=0.0005, lambda=0.001, batch_size=64:  32%|███▏      | 158/500 [00:04<00:09, 36.19it/s, train_mse=0.1949126, valid_mse=0.1972658]\n",
      "alpha=0.0005, lambda=0.001, batch_size=64:  31%|███▏      | 157/500 [00:04<00:09, 36.32it/s, train_mse=0.1710081, valid_mse=0.1337250]\n",
      "alpha=0.0005, lambda=0.001, batch_size=64:  37%|███▋      | 184/500 [00:05<00:08, 35.91it/s, train_mse=0.1815666, valid_mse=0.1869521]\n",
      "alpha=0.0005, lambda=0.001, batch_size=64:  38%|███▊      | 191/500 [00:05<00:08, 35.28it/s, train_mse=0.1824118, valid_mse=0.2174854]\n",
      "alpha=0.0005, lambda=0.0001, batch_size=32:  29%|██▉       | 144/500 [00:07<00:18, 19.24it/s, train_mse=0.1804725, valid_mse=0.1593242]\n",
      "alpha=0.0005, lambda=0.0001, batch_size=32:  30%|███       | 152/500 [00:08<00:18, 18.78it/s, train_mse=0.1989609, valid_mse=0.2189310]\n",
      "alpha=0.0005, lambda=0.0001, batch_size=32:  27%|██▋       | 133/500 [00:07<00:19, 18.59it/s, train_mse=0.1874852, valid_mse=0.1491778]\n",
      "alpha=0.0005, lambda=0.0001, batch_size=32:  29%|██▉       | 147/500 [00:08<00:19, 18.36it/s, train_mse=0.1717057, valid_mse=0.1855663]\n",
      "alpha=0.0005, lambda=0.0001, batch_size=32:  27%|██▋       | 135/500 [00:07<00:19, 18.42it/s, train_mse=0.1709949, valid_mse=0.2017523]\n",
      "alpha=0.0005, lambda=0.0001, batch_size=64:  38%|███▊      | 189/500 [00:05<00:08, 34.78it/s, train_mse=0.1898645, valid_mse=0.1786127]\n",
      "alpha=0.0005, lambda=0.0001, batch_size=64:  37%|███▋      | 183/500 [00:05<00:09, 34.93it/s, train_mse=0.2111898, valid_mse=0.2393261]\n",
      "alpha=0.0005, lambda=0.0001, batch_size=64:  37%|███▋      | 183/500 [00:05<00:09, 35.05it/s, train_mse=0.2694989, valid_mse=0.1955950]\n",
      "alpha=0.0005, lambda=0.0001, batch_size=64:  29%|██▊       | 143/500 [00:04<00:10, 34.78it/s, train_mse=0.1895897, valid_mse=0.2054919]\n",
      "alpha=0.0005, lambda=0.0001, batch_size=64:  39%|███▉      | 195/500 [00:05<00:08, 34.63it/s, train_mse=0.2245302, valid_mse=0.2662673]\n",
      "alpha=0.0005, lambda=0, batch_size=32:  30%|███       | 151/500 [00:07<00:18, 19.30it/s, train_mse=0.1869464, valid_mse=0.1763631]\n",
      "alpha=0.0005, lambda=0, batch_size=32:  28%|██▊       | 141/500 [00:07<00:18, 19.80it/s, train_mse=0.1727774, valid_mse=0.1868825]\n",
      "alpha=0.0005, lambda=0, batch_size=32:  28%|██▊       | 139/500 [00:06<00:17, 20.82it/s, train_mse=0.1955170, valid_mse=0.1568887]\n",
      "alpha=0.0005, lambda=0, batch_size=32:  27%|██▋       | 136/500 [00:06<00:18, 19.55it/s, train_mse=0.1788203, valid_mse=0.1877447]\n",
      "alpha=0.0005, lambda=0, batch_size=32:  30%|██▉       | 148/500 [00:07<00:17, 20.13it/s, train_mse=0.1884165, valid_mse=0.2372533]\n",
      "alpha=0.0005, lambda=0, batch_size=64:  30%|███       | 150/500 [00:04<00:09, 35.98it/s, train_mse=0.1762492, valid_mse=0.1622298]\n",
      "alpha=0.0005, lambda=0, batch_size=64:  33%|███▎      | 164/500 [00:04<00:09, 36.01it/s, train_mse=0.2154235, valid_mse=0.2358495]\n",
      "alpha=0.0005, lambda=0, batch_size=64:  31%|███       | 155/500 [00:04<00:09, 35.39it/s, train_mse=0.2203109, valid_mse=0.1604024]\n",
      "alpha=0.0005, lambda=0, batch_size=64:  37%|███▋      | 184/500 [00:05<00:09, 35.07it/s, train_mse=0.2015239, valid_mse=0.2115492]\n",
      "alpha=0.0005, lambda=0, batch_size=64:  39%|███▉      | 196/500 [00:05<00:08, 34.67it/s, train_mse=0.2277384, valid_mse=0.2614349]\n"
     ]
    }
   ],
   "source": [
    "indices = np.random.permutation(len(y))\n",
    "fold_size = len(indices) // 5\n",
    "scores = []\n",
    "for alpha, lambda_, batch_size in product(alphas, lambdas, batch_sizes):\n",
    "    model = LinearRegression(alpha, lambda_)\n",
    "    fold_scores = []\n",
    "    for fold in range(5):\n",
    "        valid_indices = indices[fold * fold_size: (fold + 1) * fold_size]\n",
    "        train_indices = indices[~np.isin(indices, valid_indices)]\n",
    "\n",
    "        X_train, y_train = X[train_indices], y[train_indices]\n",
    "        X_valid, y_valid = X[valid_indices], y[valid_indices]\n",
    "\n",
    "        history = model.fit(X_train, y_train, X_valid, y_valid, epochs=500,\n",
    "                            batch_size=batch_size, cold_start=True,\n",
    "                            patience=50, min_delta=1e-3)\n",
    "        fold_scores.append(history)\n",
    "    with open(ridge_logs_dir / f'alpha_{alpha}-lambda_{lambda_}-batch_size_{batch_size}.pkl', 'wb') as f:\n",
    "        pickle.dump(fold_scores, f)"
   ],
   "metadata": {
    "collapsed": false
   }
  },
  {
   "cell_type": "code",
   "execution_count": 24,
   "outputs": [],
   "source": [],
   "metadata": {
    "collapsed": false
   }
  }
 ],
 "metadata": {
  "kernelspec": {
   "display_name": "Python 3",
   "language": "python",
   "name": "python3"
  },
  "language_info": {
   "codemirror_mode": {
    "name": "ipython",
    "version": 2
   },
   "file_extension": ".py",
   "mimetype": "text/x-python",
   "name": "python",
   "nbconvert_exporter": "python",
   "pygments_lexer": "ipython2",
   "version": "2.7.6"
  }
 },
 "nbformat": 4,
 "nbformat_minor": 0
}
