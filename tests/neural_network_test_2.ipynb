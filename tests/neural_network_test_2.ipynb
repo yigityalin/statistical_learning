{
 "cells": [
  {
   "cell_type": "code",
   "execution_count": 1,
   "metadata": {
    "collapsed": true
   },
   "outputs": [],
   "source": [
    "from algorithms.activations import Linear, ReLU\n",
    "from algorithms.model_selection import DEFAULT_METRICS, KFold\n",
    "from algorithms.nn import NeuralNetwork\n",
    "from algorithms.preprocessing import load_and_preprocess_dataset"
   ]
  },
  {
   "cell_type": "code",
   "execution_count": 2,
   "outputs": [],
   "source": [
    "X_train, y_train, X_test, y_test = load_and_preprocess_dataset()"
   ],
   "metadata": {
    "collapsed": false
   }
  },
  {
   "cell_type": "code",
   "execution_count": 3,
   "outputs": [],
   "source": [
    "k = 5\n",
    "model = NeuralNetwork([(23, 16, ReLU), (16, 1, Linear)])"
   ],
   "metadata": {
    "collapsed": false
   }
  },
  {
   "cell_type": "code",
   "execution_count": 5,
   "outputs": [],
   "source": [
    "kfold = KFold(k=k, model=model).cv(X_train, y_train, batch_size=32, epochs=1000, alpha=1e-5)"
   ],
   "metadata": {
    "collapsed": false
   }
  },
  {
   "cell_type": "code",
   "execution_count": 6,
   "outputs": [],
   "source": [
    "train_scores, valid_scores = kfold.get_scores(as_dataframe=True)"
   ],
   "metadata": {
    "collapsed": false
   }
  },
  {
   "cell_type": "code",
   "execution_count": 7,
   "outputs": [
    {
     "name": "stdout",
     "output_type": "stream",
     "text": [
      "5-fold cross validation scores on train dataset:\n"
     ]
    },
    {
     "data": {
      "text/plain": "           MSE       MAE      MAPE        R2\nmean  0.235334  0.296009  2.217036  0.764594\nstd   0.044750  0.031167  0.513178  0.044976",
      "text/html": "<div>\n<style scoped>\n    .dataframe tbody tr th:only-of-type {\n        vertical-align: middle;\n    }\n\n    .dataframe tbody tr th {\n        vertical-align: top;\n    }\n\n    .dataframe thead th {\n        text-align: right;\n    }\n</style>\n<table border=\"1\" class=\"dataframe\">\n  <thead>\n    <tr style=\"text-align: right;\">\n      <th></th>\n      <th>MSE</th>\n      <th>MAE</th>\n      <th>MAPE</th>\n      <th>R2</th>\n    </tr>\n  </thead>\n  <tbody>\n    <tr>\n      <th>mean</th>\n      <td>0.235334</td>\n      <td>0.296009</td>\n      <td>2.217036</td>\n      <td>0.764594</td>\n    </tr>\n    <tr>\n      <th>std</th>\n      <td>0.044750</td>\n      <td>0.031167</td>\n      <td>0.513178</td>\n      <td>0.044976</td>\n    </tr>\n  </tbody>\n</table>\n</div>"
     },
     "execution_count": 7,
     "metadata": {},
     "output_type": "execute_result"
    }
   ],
   "source": [
    "print(f'{k}-fold cross validation scores on train dataset:')\n",
    "train_scores"
   ],
   "metadata": {
    "collapsed": false
   }
  },
  {
   "cell_type": "code",
   "execution_count": 8,
   "outputs": [
    {
     "name": "stdout",
     "output_type": "stream",
     "text": [
      "5-fold cross validation scores on validation dataset:\n"
     ]
    },
    {
     "data": {
      "text/plain": "           MSE       MAE      MAPE        R2\nmean  0.244317  0.297811  2.561417  0.755956\nstd   0.056390  0.031992  1.717482  0.050779",
      "text/html": "<div>\n<style scoped>\n    .dataframe tbody tr th:only-of-type {\n        vertical-align: middle;\n    }\n\n    .dataframe tbody tr th {\n        vertical-align: top;\n    }\n\n    .dataframe thead th {\n        text-align: right;\n    }\n</style>\n<table border=\"1\" class=\"dataframe\">\n  <thead>\n    <tr style=\"text-align: right;\">\n      <th></th>\n      <th>MSE</th>\n      <th>MAE</th>\n      <th>MAPE</th>\n      <th>R2</th>\n    </tr>\n  </thead>\n  <tbody>\n    <tr>\n      <th>mean</th>\n      <td>0.244317</td>\n      <td>0.297811</td>\n      <td>2.561417</td>\n      <td>0.755956</td>\n    </tr>\n    <tr>\n      <th>std</th>\n      <td>0.056390</td>\n      <td>0.031992</td>\n      <td>1.717482</td>\n      <td>0.050779</td>\n    </tr>\n  </tbody>\n</table>\n</div>"
     },
     "execution_count": 8,
     "metadata": {},
     "output_type": "execute_result"
    }
   ],
   "source": [
    "print(f'{k}-fold cross validation scores on validation dataset:')\n",
    "valid_scores"
   ],
   "metadata": {
    "collapsed": false
   }
  },
  {
   "cell_type": "code",
   "execution_count": 9,
   "outputs": [],
   "source": [
    "model = kfold.get_best_models()[0]"
   ],
   "metadata": {
    "collapsed": false
   }
  },
  {
   "cell_type": "code",
   "execution_count": 10,
   "outputs": [],
   "source": [
    "y_test_pred = model.predict(X_test)"
   ],
   "metadata": {
    "collapsed": false
   }
  },
  {
   "cell_type": "code",
   "execution_count": 11,
   "outputs": [
    {
     "name": "stdout",
     "output_type": "stream",
     "text": [
      "MSE: 0.4673936042618163\n",
      "MAE: 0.44123746147411114\n",
      "MAPE: 1.2607838072100355\n",
      "R2: 0.6366675837344745\n"
     ]
    }
   ],
   "source": [
    "for metric, metric_fn in DEFAULT_METRICS.items():\n",
    "    print(f'{metric}: {metric_fn(y_test, y_test_pred)}')"
   ],
   "metadata": {
    "collapsed": false
   }
  }
 ],
 "metadata": {
  "kernelspec": {
   "display_name": "Python 3",
   "language": "python",
   "name": "python3"
  },
  "language_info": {
   "codemirror_mode": {
    "name": "ipython",
    "version": 2
   },
   "file_extension": ".py",
   "mimetype": "text/x-python",
   "name": "python",
   "nbconvert_exporter": "python",
   "pygments_lexer": "ipython2",
   "version": "2.7.6"
  }
 },
 "nbformat": 4,
 "nbformat_minor": 0
}
