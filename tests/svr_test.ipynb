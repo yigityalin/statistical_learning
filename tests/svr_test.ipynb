{
 "cells": [
  {
   "cell_type": "code",
   "execution_count": null,
   "metadata": {
    "collapsed": true
   },
   "outputs": [],
   "source": [
    "from itertools import product\n",
    "import pickle\n",
    "\n",
    "import numpy as np\n",
    "\n",
    "from algorithms.svr import SupportVectorRegressor\n",
    "from algorithms.preprocessing import load_and_preprocess_dataset\n",
    "\n",
    "import config"
   ]
  },
  {
   "cell_type": "code",
   "execution_count": null,
   "outputs": [],
   "source": [
    "svr_logs_dir = config.LOGS_DIR / 'svr'\n",
    "svr_logs_dir.mkdir(exist_ok=True)"
   ],
   "metadata": {
    "collapsed": false
   }
  },
  {
   "cell_type": "code",
   "execution_count": null,
   "outputs": [],
   "source": [
    "X, y, X_test, y_test = load_and_preprocess_dataset()"
   ],
   "metadata": {
    "collapsed": false
   }
  },
  {
   "cell_type": "code",
   "execution_count": null,
   "outputs": [],
   "source": [
    "X = np.asarray(X)\n",
    "y = np.asarray(y)\n",
    "X_test = np.asarray(X_test)\n",
    "y_test = np.asarray(y_test)"
   ],
   "metadata": {
    "collapsed": false
   }
  },
  {
   "cell_type": "code",
   "execution_count": null,
   "outputs": [],
   "source": [
    "hyperparameters = [\n",
    "    (0.1, 0.001, 0.01, 'linear', 0.5),\n",
    "    (0.1, 0.001, 0.01, 'rbf', 0.5),\n",
    "    (0.1, 0.001, 0.001, 'linear', 0.5),\n",
    "    (0.1, 0.001, 0.001, 'rbf', 0.5),\n",
    "    (0.1, 0.001, 0.001, 'rbf', 1),\n",
    "    (0.1, 0.01, 0.01, 'linear', 0.5),\n",
    "    (0.1, 0.01, 0.001, 'rbf', 0.5),\n",
    "    (0.2, 0.001, 0.001, 'rbf', 0.5),\n",
    "    (0.2, 0.001, 0.001, 'rbf', 1),\n",
    "    (0.2, 0.01, 0.001, 'linear', 1),\n",
    "    (0.2, 0.01, 0.001, 'rbf', 1),\n",
    "]"
   ],
   "metadata": {
    "collapsed": false
   }
  },
  {
   "cell_type": "code",
   "execution_count": null,
   "outputs": [],
   "source": [
    "indices = np.random.permutation(len(y))\n",
    "fold_size = len(indices) // 5\n",
    "scores = []\n",
    "\n",
    "for C, epsilon, tolerance, kernel_type, gamma in hyperparameters:\n",
    "    fold_scores = []\n",
    "    for fold in range(5):\n",
    "        valid_indices = indices[fold * fold_size: (fold + 1) * fold_size]\n",
    "        train_indices = indices[~np.isin(indices, valid_indices)]\n",
    "\n",
    "        X_train, y_train = X[train_indices], y[train_indices]\n",
    "        X_valid, y_valid = X[valid_indices], y[valid_indices]\n",
    "\n",
    "        model = SupportVectorRegressor(X_train, y_train, C, epsilon, tolerance, kernel_type=kernel_type, gamma=gamma)\n",
    "        history = model.fit(X_valid, y_valid, max_iterations=250)\n",
    "        fold_scores.append(history)\n",
    "\n",
    "    with open(svr_logs_dir / f'C_{C}-epsilon_{epsilon}-tolerance_{tolerance}-kernel_type_{kernel_type}-gamma_{gamma}.pkl', 'wb') as f:\n",
    "        pickle.dump(fold_scores, f)"
   ],
   "metadata": {
    "collapsed": false
   }
  },
  {
   "cell_type": "code",
   "execution_count": null,
   "outputs": [],
   "source": [],
   "metadata": {
    "collapsed": false
   }
  }
 ],
 "metadata": {
  "kernelspec": {
   "display_name": "Python 3",
   "language": "python",
   "name": "python3"
  },
  "language_info": {
   "codemirror_mode": {
    "name": "ipython",
    "version": 2
   },
   "file_extension": ".py",
   "mimetype": "text/x-python",
   "name": "python",
   "nbconvert_exporter": "python",
   "pygments_lexer": "ipython2",
   "version": "2.7.6"
  }
 },
 "nbformat": 4,
 "nbformat_minor": 0
}
