{
 "cells": [
  {
   "cell_type": "code",
   "execution_count": 1,
   "metadata": {
    "collapsed": true
   },
   "outputs": [],
   "source": [
    "from itertools import product\n",
    "import pickle\n",
    "\n",
    "import numpy as np\n",
    "\n",
    "from algorithms.svr import SupportVectorRegressor\n",
    "from algorithms.preprocessing import load_and_preprocess_dataset\n",
    "\n",
    "import config"
   ]
  },
  {
   "cell_type": "code",
   "execution_count": 2,
   "outputs": [],
   "source": [
    "svr_logs_dir = config.LOGS_DIR / 'svr'\n",
    "svr_logs_dir.mkdir(exist_ok=True)"
   ],
   "metadata": {
    "collapsed": false
   }
  },
  {
   "cell_type": "code",
   "execution_count": 3,
   "outputs": [],
   "source": [
    "X, y, X_test, y_test = load_and_preprocess_dataset()"
   ],
   "metadata": {
    "collapsed": false
   }
  },
  {
   "cell_type": "code",
   "execution_count": 4,
   "outputs": [],
   "source": [
    "X = np.asarray(X)\n",
    "y = np.asarray(y)\n",
    "X_test = np.asarray(X_test)\n",
    "y_test = np.asarray(y_test)"
   ],
   "metadata": {
    "collapsed": false
   }
  },
  {
   "cell_type": "code",
   "execution_count": 12,
   "outputs": [],
   "source": [
    "hyperparameters = [\n",
    "    #(0.1, 0.001, 0.01, 'linear', 0.5),\n",
    "    #(0.1, 0.001, 0.01, 'rbf', 0.5),\n",
    "    #(0.1, 0.001, 0.001, 'linear', 0.5),\n",
    "    #(0.1, 0.001, 0.001, 'rbf', 0.5),\n",
    "    #(0.1, 0.001, 0.001, 'rbf', 1),\n",
    "    (0.1, 0.01, 0.01, 'linear', 0.5),\n",
    "    (0.1, 0.01, 0.001, 'rbf', 0.5),\n",
    "    (0.2, 0.001, 0.001, 'rbf', 0.5),\n",
    "    (0.2, 0.001, 0.001, 'rbf', 1),\n",
    "    (0.2, 0.01, 0.001, 'linear', 1),\n",
    "    (0.2, 0.01, 0.001, 'rbf', 1),\n",
    "]"
   ],
   "metadata": {
    "collapsed": false
   }
  },
  {
   "cell_type": "code",
   "execution_count": null,
   "outputs": [
    {
     "name": "stderr",
     "output_type": "stream",
     "text": [
      "C=0.1, epsilon=0.01, tolerance=0.01: 100%|██████████| 250/250 [01:28<00:00,  2.82it/s, train_mse=0.1847685, valid_mse=0.2326253, number of changes: 526]\n",
      "C=0.1, epsilon=0.01, tolerance=0.01: 100%|██████████| 250/250 [01:29<00:00,  2.80it/s, train_mse=0.2123603, valid_mse=0.1615225, number of changes: 546]\n",
      "C=0.1, epsilon=0.01, tolerance=0.01: 100%|██████████| 250/250 [01:32<00:00,  2.70it/s, train_mse=0.1947679, valid_mse=0.1763444, number of changes: 555]\n",
      "C=0.1, epsilon=0.01, tolerance=0.01: 100%|██████████| 250/250 [10:25<00:00,  2.50s/it, train_mse=0.1959081, valid_mse=0.2135719, number of changes: 525]  \n",
      "C=0.1, epsilon=0.01, tolerance=0.01: 100%|██████████| 250/250 [37:05<00:00,  8.90s/it, train_mse=0.1922476, valid_mse=0.2013247, number of changes: 518]    \n",
      "C=0.1, epsilon=0.01, tolerance=0.001: 100%|██████████| 250/250 [09:55<00:00,  2.38s/it, train_mse=0.1286224, valid_mse=0.1914475, number of changes: 1134]\n",
      "C=0.1, epsilon=0.01, tolerance=0.001: 100%|██████████| 250/250 [10:48<00:00,  2.60s/it, train_mse=0.1516827, valid_mse=0.1167438, number of changes: 1189]\n",
      "C=0.1, epsilon=0.01, tolerance=0.001: 100%|██████████| 250/250 [12:02<00:00,  2.89s/it, train_mse=0.1385924, valid_mse=0.1462419, number of changes: 1119]\n",
      "C=0.1, epsilon=0.01, tolerance=0.001: 100%|██████████| 250/250 [11:11<00:00,  2.69s/it, train_mse=0.1372378, valid_mse=0.1701942, number of changes: 1149]\n",
      "C=0.1, epsilon=0.01, tolerance=0.001: 100%|██████████| 250/250 [10:44<00:00,  2.58s/it, train_mse=0.1456547, valid_mse=0.1386658, number of changes: 1174]\n",
      "C=0.2, epsilon=0.001, tolerance=0.001: 100%|██████████| 250/250 [10:27<00:00,  2.51s/it, train_mse=0.0797228, valid_mse=0.1411907, number of changes: 1226]\n",
      "C=0.2, epsilon=0.001, tolerance=0.001: 100%|██████████| 250/250 [10:48<00:00,  2.60s/it, train_mse=0.0963397, valid_mse=0.0740928, number of changes: 1198]\n",
      "C=0.2, epsilon=0.001, tolerance=0.001: 100%|██████████| 250/250 [10:31<00:00,  2.53s/it, train_mse=0.0881008, valid_mse=0.1038764, number of changes: 1212]\n",
      "C=0.2, epsilon=0.001, tolerance=0.001: 100%|██████████| 250/250 [12:26<00:00,  2.99s/it, train_mse=0.0892844, valid_mse=0.1179754, number of changes: 1217]\n",
      "C=0.2, epsilon=0.001, tolerance=0.001: 100%|██████████| 250/250 [13:12<00:00,  3.17s/it, train_mse=0.0945634, valid_mse=0.0884918, number of changes: 1197]\n",
      "C=0.2, epsilon=0.001, tolerance=0.001: 100%|██████████| 250/250 [13:15<00:00,  3.18s/it, train_mse=0.2001720, valid_mse=0.3079699, number of changes: 1285]\n",
      "C=0.2, epsilon=0.001, tolerance=0.001: 100%|██████████| 250/250 [15:07<00:00,  3.63s/it, train_mse=0.2228778, valid_mse=0.2130777, number of changes: 1329]\n",
      "C=0.2, epsilon=0.001, tolerance=0.001:  18%|█▊        | 44/250 [03:05<13:18,  3.88s/it, train_mse=0.2086690, valid_mse=0.2421145, number of changes: 1714]"
     ]
    }
   ],
   "source": [
    "indices = np.random.permutation(len(y))\n",
    "fold_size = len(indices) // 5\n",
    "scores = []\n",
    "\n",
    "for C, epsilon, tolerance, kernel_type, gamma in hyperparameters:\n",
    "    fold_scores = []\n",
    "    for fold in range(5):\n",
    "        valid_indices = indices[fold * fold_size: (fold + 1) * fold_size]\n",
    "        train_indices = indices[~np.isin(indices, valid_indices)]\n",
    "\n",
    "        X_train, y_train = X[train_indices], y[train_indices]\n",
    "        X_valid, y_valid = X[valid_indices], y[valid_indices]\n",
    "\n",
    "        model = SupportVectorRegressor(X_train, y_train, C, epsilon, tolerance, kernel_type=kernel_type, gamma=gamma)\n",
    "        history = model.fit(X_valid, y_valid, max_iterations=250)\n",
    "        fold_scores.append(history)\n",
    "\n",
    "    with open(svr_logs_dir / f'C_{C}-epsilon_{epsilon}-tolerance_{tolerance}-kernel_type_{kernel_type}-gamma_{gamma}.pkl', 'wb') as f:\n",
    "        pickle.dump(fold_scores, f)"
   ],
   "metadata": {
    "collapsed": false,
    "pycharm": {
     "is_executing": true
    }
   }
  },
  {
   "cell_type": "code",
   "execution_count": null,
   "outputs": [],
   "source": [],
   "metadata": {
    "collapsed": false
   }
  }
 ],
 "metadata": {
  "kernelspec": {
   "display_name": "Python 3",
   "language": "python",
   "name": "python3"
  },
  "language_info": {
   "codemirror_mode": {
    "name": "ipython",
    "version": 2
   },
   "file_extension": ".py",
   "mimetype": "text/x-python",
   "name": "python",
   "nbconvert_exporter": "python",
   "pygments_lexer": "ipython2",
   "version": "2.7.6"
  }
 },
 "nbformat": 4,
 "nbformat_minor": 0
}
