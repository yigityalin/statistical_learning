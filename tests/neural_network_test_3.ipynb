{
 "cells": [
  {
   "cell_type": "code",
   "execution_count": 1,
   "metadata": {
    "collapsed": true
   },
   "outputs": [],
   "source": [
    "from algorithms.activations import Linear, ReLU\n",
    "from algorithms.model_selection import DEFAULT_METRICS, KFold\n",
    "from algorithms.nn import NeuralNetwork\n",
    "from algorithms.preprocessing import load_and_preprocess_dataset"
   ]
  },
  {
   "cell_type": "code",
   "execution_count": 2,
   "outputs": [],
   "source": [
    "X_train, y_train, X_test, y_test = load_and_preprocess_dataset()"
   ],
   "metadata": {
    "collapsed": false
   }
  },
  {
   "cell_type": "code",
   "execution_count": 3,
   "outputs": [],
   "source": [
    "k = 5\n",
    "model = NeuralNetwork([(23, 16, ReLU), (16, 1, Linear)])"
   ],
   "metadata": {
    "collapsed": false
   }
  },
  {
   "cell_type": "code",
   "execution_count": 4,
   "outputs": [],
   "source": [
    "kfold = KFold(k=k, model=model).cv(X_train, y_train, batch_size=32, epochs=1000, alpha=1e-5)"
   ],
   "metadata": {
    "collapsed": false
   }
  },
  {
   "cell_type": "code",
   "execution_count": 5,
   "outputs": [],
   "source": [
    "train_scores, valid_scores = kfold.get_scores(as_dataframe=True)"
   ],
   "metadata": {
    "collapsed": false
   }
  },
  {
   "cell_type": "code",
   "execution_count": 6,
   "outputs": [
    {
     "name": "stdout",
     "output_type": "stream",
     "text": [
      "5-fold cross validation scores on train dataset:\n"
     ]
    },
    {
     "data": {
      "text/plain": "           MSE       MAE      MAPE        R2\nmean  0.258621  0.315284  2.492225  0.741972\nstd   0.086969  0.055942  0.560045  0.084397",
      "text/html": "<div>\n<style scoped>\n    .dataframe tbody tr th:only-of-type {\n        vertical-align: middle;\n    }\n\n    .dataframe tbody tr th {\n        vertical-align: top;\n    }\n\n    .dataframe thead th {\n        text-align: right;\n    }\n</style>\n<table border=\"1\" class=\"dataframe\">\n  <thead>\n    <tr style=\"text-align: right;\">\n      <th></th>\n      <th>MSE</th>\n      <th>MAE</th>\n      <th>MAPE</th>\n      <th>R2</th>\n    </tr>\n  </thead>\n  <tbody>\n    <tr>\n      <th>mean</th>\n      <td>0.258621</td>\n      <td>0.315284</td>\n      <td>2.492225</td>\n      <td>0.741972</td>\n    </tr>\n    <tr>\n      <th>std</th>\n      <td>0.086969</td>\n      <td>0.055942</td>\n      <td>0.560045</td>\n      <td>0.084397</td>\n    </tr>\n  </tbody>\n</table>\n</div>"
     },
     "execution_count": 6,
     "metadata": {},
     "output_type": "execute_result"
    }
   ],
   "source": [
    "print(f'{k}-fold cross validation scores on train dataset:')\n",
    "train_scores"
   ],
   "metadata": {
    "collapsed": false
   }
  },
  {
   "cell_type": "code",
   "execution_count": 7,
   "outputs": [
    {
     "name": "stdout",
     "output_type": "stream",
     "text": [
      "5-fold cross validation scores on validation dataset:\n"
     ]
    },
    {
     "data": {
      "text/plain": "           MSE       MAE      MAPE        R2\nmean  0.269445  0.323222  4.218205  0.728664\nstd   0.077740  0.052845  5.112203  0.084927",
      "text/html": "<div>\n<style scoped>\n    .dataframe tbody tr th:only-of-type {\n        vertical-align: middle;\n    }\n\n    .dataframe tbody tr th {\n        vertical-align: top;\n    }\n\n    .dataframe thead th {\n        text-align: right;\n    }\n</style>\n<table border=\"1\" class=\"dataframe\">\n  <thead>\n    <tr style=\"text-align: right;\">\n      <th></th>\n      <th>MSE</th>\n      <th>MAE</th>\n      <th>MAPE</th>\n      <th>R2</th>\n    </tr>\n  </thead>\n  <tbody>\n    <tr>\n      <th>mean</th>\n      <td>0.269445</td>\n      <td>0.323222</td>\n      <td>4.218205</td>\n      <td>0.728664</td>\n    </tr>\n    <tr>\n      <th>std</th>\n      <td>0.077740</td>\n      <td>0.052845</td>\n      <td>5.112203</td>\n      <td>0.084927</td>\n    </tr>\n  </tbody>\n</table>\n</div>"
     },
     "execution_count": 7,
     "metadata": {},
     "output_type": "execute_result"
    }
   ],
   "source": [
    "print(f'{k}-fold cross validation scores on validation dataset:')\n",
    "valid_scores"
   ],
   "metadata": {
    "collapsed": false
   }
  },
  {
   "cell_type": "code",
   "execution_count": 8,
   "outputs": [],
   "source": [
    "model = kfold.get_best_models()[0]"
   ],
   "metadata": {
    "collapsed": false
   }
  },
  {
   "cell_type": "code",
   "execution_count": 9,
   "outputs": [],
   "source": [
    "y_test_pred = model.predict(X_test)"
   ],
   "metadata": {
    "collapsed": false
   }
  },
  {
   "cell_type": "code",
   "execution_count": 10,
   "outputs": [
    {
     "name": "stdout",
     "output_type": "stream",
     "text": [
      "MSE: 0.7182002578929157\n",
      "MAE: 0.6108212129176542\n",
      "MAPE: 2.1586292193286316\n",
      "R2: 0.47158847834879863\n"
     ]
    }
   ],
   "source": [
    "for metric, metric_fn in DEFAULT_METRICS.items():\n",
    "    print(f'{metric}: {metric_fn(y_test, y_test_pred)}')"
   ],
   "metadata": {
    "collapsed": false
   }
  }
 ],
 "metadata": {
  "kernelspec": {
   "display_name": "Python 3",
   "language": "python",
   "name": "python3"
  },
  "language_info": {
   "codemirror_mode": {
    "name": "ipython",
    "version": 2
   },
   "file_extension": ".py",
   "mimetype": "text/x-python",
   "name": "python",
   "nbconvert_exporter": "python",
   "pygments_lexer": "ipython2",
   "version": "2.7.6"
  }
 },
 "nbformat": 4,
 "nbformat_minor": 0
}
