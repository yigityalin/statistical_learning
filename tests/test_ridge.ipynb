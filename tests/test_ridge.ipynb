{
 "cells": [
  {
   "cell_type": "code",
   "execution_count": 1,
   "metadata": {
    "collapsed": true
   },
   "outputs": [],
   "source": [
    "from collections import defaultdict\n",
    "from itertools import product\n",
    "import pickle\n",
    "\n",
    "import matplotlib.pyplot as plt\n",
    "import numpy as np\n",
    "import pandas as pd\n",
    "\n",
    "from algorithms.preprocessing import load_and_preprocess_dataset\n",
    "from algorithms.model_selection import DEFAULT_METRICS\n",
    "import config"
   ]
  },
  {
   "cell_type": "code",
   "execution_count": 2,
   "outputs": [],
   "source": [
    "_, _, X_test, y_test = load_and_preprocess_dataset()"
   ],
   "metadata": {
    "collapsed": false
   }
  },
  {
   "cell_type": "code",
   "execution_count": 3,
   "outputs": [],
   "source": [
    "ridge_logs_dir = config.LOGS_DIR / 'ridge'\n",
    "nn_logs_dir = config.LOGS_DIR / 'nn'\n",
    "svr_logs_dir = config.LOGS_DIR / 'svr'"
   ],
   "metadata": {
    "collapsed": false
   }
  },
  {
   "cell_type": "code",
   "execution_count": 4,
   "outputs": [],
   "source": [
    "ridge_alphas = [1e-2, 5e-3, 1e-3, 5e-4]\n",
    "ridge_lambdas = [1e-2, 1e-3, 1e-4, 0]\n",
    "ridge_batch_sizes = [32, 64]\n",
    "\n",
    "ridge_hyperparams = list(product(ridge_alphas, ridge_lambdas, ridge_batch_sizes))"
   ],
   "metadata": {
    "collapsed": false
   }
  },
  {
   "cell_type": "code",
   "execution_count": 5,
   "outputs": [],
   "source": [
    "ridge_scores = []\n",
    "for alpha, lambda_, batch_size in ridge_hyperparams:\n",
    "    with open(ridge_logs_dir / f'alpha_{alpha}-lambda_{lambda_}-batch_size_{batch_size}.pkl', 'rb') as f:\n",
    "        ridge_histories = pickle.load(f)\n",
    "    ridge_scores.append(ridge_histories)"
   ],
   "metadata": {
    "collapsed": false
   }
  },
  {
   "cell_type": "code",
   "execution_count": 6,
   "outputs": [],
   "source": [
    "ridge_last_scores = []\n",
    "\n",
    "for model in ridge_scores:\n",
    "    model_last_scores = defaultdict(int)\n",
    "    for fold in model:\n",
    "        for metric in DEFAULT_METRICS.keys():\n",
    "            model_last_scores[f'train_{metric}'] += fold[f'train_{metric}'][-1] / len(model)\n",
    "            model_last_scores[f'valid_{metric}'] += fold[f'valid_{metric}'][-1] / len(model)\n",
    "    ridge_last_scores.append(model_last_scores)"
   ],
   "metadata": {
    "collapsed": false
   }
  },
  {
   "cell_type": "code",
   "execution_count": 7,
   "outputs": [],
   "source": [
    "valid_ridge = {metric: [ls[f'valid_{metric}'] for ls in ridge_last_scores] for metric in DEFAULT_METRICS.keys()}"
   ],
   "metadata": {
    "collapsed": false
   }
  },
  {
   "cell_type": "code",
   "execution_count": 8,
   "outputs": [
    {
     "data": {
      "text/plain": "<Figure size 432x288 with 1 Axes>",
      "image/png": "[encoded data removed]"
     },
     "metadata": {
      "needs_background": "light"
     },
     "output_type": "display_data"
    }
   ],
   "source": [
    "plt.figure()\n",
    "plt.title('The number of models with a given validation MSE')\n",
    "plt.xlabel('MSE')\n",
    "plt.ylabel('Number of models')\n",
    "plt.hist(valid_ridge['MSE'])\n",
    "plt.show()"
   ],
   "metadata": {
    "collapsed": false
   }
  },
  {
   "cell_type": "code",
   "execution_count": 11,
   "outputs": [
    {
     "data": {
      "text/plain": "0.1646927555636123"
     },
     "execution_count": 11,
     "metadata": {},
     "output_type": "execute_result"
    }
   ],
   "source": [
    "np.mean(valid_ridge['MSE'])"
   ],
   "metadata": {
    "collapsed": false
   }
  },
  {
   "cell_type": "code",
   "execution_count": 9,
   "outputs": [],
   "source": [
    "ridge_best_score = np.inf\n",
    "ridge_best_model_index = -1\n",
    "\n",
    "for i, model in enumerate(ridge_last_scores):\n",
    "    if model['valid_MAPE'] < ridge_best_score:\n",
    "        ridge_best_model_index = i\n",
    "        ridge_best_score = model['valid_MAPE']"
   ],
   "metadata": {
    "collapsed": false
   }
  },
  {
   "cell_type": "code",
   "execution_count": 10,
   "outputs": [
    {
     "name": "stdout",
     "output_type": "stream",
     "text": [
      "train_MSE 0.16690228680482844\n",
      "train_MAE 0.25528346168372146\n",
      "train_MAPE 2.088003390918025\n",
      "train_R2 0.8542625335475865\n"
     ]
    }
   ],
   "source": [
    "for k, v in ridge_last_scores[ridge_best_model_index].items():\n",
    "    if k.startswith('train'):\n",
    "        print(k, v)"
   ],
   "metadata": {
    "collapsed": false
   }
  },
  {
   "cell_type": "code",
   "execution_count": 12,
   "outputs": [
    {
     "name": "stdout",
     "output_type": "stream",
     "text": [
      "valid_MSE 0.16826969201363326\n",
      "valid_MAE 0.2536348429874038\n",
      "valid_MAPE 1.50715105022763\n",
      "valid_R2 0.833064866522053\n"
     ]
    }
   ],
   "source": [
    "for k, v in ridge_last_scores[ridge_best_model_index].items():\n",
    "    if k.startswith('valid'):\n",
    "        print(k, v)"
   ],
   "metadata": {
    "collapsed": false
   }
  },
  {
   "cell_type": "code",
   "execution_count": 38,
   "outputs": [
    {
     "data": {
      "text/plain": "0.1646927555636123"
     },
     "execution_count": 38,
     "metadata": {},
     "output_type": "execute_result"
    }
   ],
   "source": [
    "np.mean(valid_ridge['MSE'])"
   ],
   "metadata": {
    "collapsed": false
   }
  },
  {
   "cell_type": "code",
   "execution_count": 39,
   "outputs": [
    {
     "data": {
      "text/plain": "0.16335723105879568"
     },
     "execution_count": 39,
     "metadata": {},
     "output_type": "execute_result"
    }
   ],
   "source": [
    "mask = [int(lambda_ > 5e-4) for alpha, lambda_, batch_size in ridge_hyperparams]\n",
    "np.sum(np.asarray(valid_ridge['MSE']) * np.asarray(mask)) / np.sum(mask)"
   ],
   "metadata": {
    "collapsed": false
   }
  },
  {
   "cell_type": "code",
   "execution_count": 40,
   "outputs": [
    {
     "data": {
      "text/plain": "0.17029704114500047"
     },
     "execution_count": 40,
     "metadata": {},
     "output_type": "execute_result"
    }
   ],
   "source": [
    "mask = [int(batch_size == 64) for alpha, lambda_, batch_size in ridge_hyperparams]\n",
    "np.sum(np.asarray(valid_ridge['MSE']) * np.asarray(mask)) / np.sum(mask)"
   ],
   "metadata": {
    "collapsed": false
   }
  },
  {
   "cell_type": "code",
   "execution_count": 41,
   "outputs": [
    {
     "data": {
      "text/plain": "0.15908846998222415"
     },
     "execution_count": 41,
     "metadata": {},
     "output_type": "execute_result"
    }
   ],
   "source": [
    "mask = [int(batch_size == 32) for alpha, lambda_, batch_size in ridge_hyperparams]\n",
    "np.sum(np.asarray(valid_ridge['MSE']) * np.asarray(mask)) / np.sum(mask)"
   ],
   "metadata": {
    "collapsed": false
   }
  },
  {
   "cell_type": "code",
   "execution_count": null,
   "outputs": [],
   "source": [],
   "metadata": {
    "collapsed": false
   }
  }
 ],
 "metadata": {
  "kernelspec": {
   "display_name": "Python 3",
   "language": "python",
   "name": "python3"
  },
  "language_info": {
   "codemirror_mode": {
    "name": "ipython",
    "version": 2
   },
   "file_extension": ".py",
   "mimetype": "text/x-python",
   "name": "python",
   "nbconvert_exporter": "python",
   "pygments_lexer": "ipython2",
   "version": "2.7.6"
  }
 },
 "nbformat": 4,
 "nbformat_minor": 0
}
