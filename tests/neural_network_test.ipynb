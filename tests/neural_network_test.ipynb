{
 "cells": [
  {
   "cell_type": "code",
   "execution_count": 1,
   "metadata": {
    "collapsed": true
   },
   "outputs": [],
   "source": [
    "from algorithms.activations import Linear, ReLU\n",
    "from algorithms.model_selection import DEFAULT_METRICS, KFold\n",
    "from algorithms.nn import NeuralNetwork\n",
    "from algorithms.preprocessing import load_and_preprocess_dataset"
   ]
  },
  {
   "cell_type": "code",
   "execution_count": 2,
   "outputs": [],
   "source": [
    "X_train, y_train, X_test, y_test = load_and_preprocess_dataset()"
   ],
   "metadata": {
    "collapsed": false
   }
  },
  {
   "cell_type": "code",
   "execution_count": 3,
   "outputs": [],
   "source": [
    "k = 5\n",
    "model = NeuralNetwork([(23, 16, ReLU), (16, 1, Linear)])"
   ],
   "metadata": {
    "collapsed": false
   }
  },
  {
   "cell_type": "code",
   "execution_count": 4,
   "outputs": [],
   "source": [
    "def lr_schedule(epoch):\n",
    "    if epoch < 100:\n",
    "        return 5e-5\n",
    "    elif epoch < 200:\n",
    "        return 1e-5\n",
    "    elif epoch < 400:\n",
    "        return 5e-6\n",
    "    elif epoch < 800:\n",
    "        return 1e-6\n",
    "    else:\n",
    "        return 5e-7"
   ],
   "metadata": {
    "collapsed": false
   }
  },
  {
   "cell_type": "code",
   "execution_count": 5,
   "outputs": [],
   "source": [
    "kfold = KFold(k=k, model=model).cv(X_train, y_train, batch_size=32, epochs=1000, alpha=1e-5)"
   ],
   "metadata": {
    "collapsed": false
   }
  },
  {
   "cell_type": "code",
   "execution_count": 6,
   "outputs": [],
   "source": [
    "train_scores, valid_scores = kfold.get_scores(as_dataframe=True)"
   ],
   "metadata": {
    "collapsed": false
   }
  },
  {
   "cell_type": "code",
   "execution_count": 7,
   "outputs": [
    {
     "name": "stdout",
     "output_type": "stream",
     "text": [
      "5-fold cross validation scores on train dataset:\n"
     ]
    },
    {
     "data": {
      "text/plain": "           MSE       MAE      MAPE        R2\nmean  0.221477  0.292905  2.143256  0.778326\nstd   0.032161  0.024305  0.613995  0.031779",
      "text/html": "<div>\n<style scoped>\n    .dataframe tbody tr th:only-of-type {\n        vertical-align: middle;\n    }\n\n    .dataframe tbody tr th {\n        vertical-align: top;\n    }\n\n    .dataframe thead th {\n        text-align: right;\n    }\n</style>\n<table border=\"1\" class=\"dataframe\">\n  <thead>\n    <tr style=\"text-align: right;\">\n      <th></th>\n      <th>MSE</th>\n      <th>MAE</th>\n      <th>MAPE</th>\n      <th>R2</th>\n    </tr>\n  </thead>\n  <tbody>\n    <tr>\n      <th>mean</th>\n      <td>0.221477</td>\n      <td>0.292905</td>\n      <td>2.143256</td>\n      <td>0.778326</td>\n    </tr>\n    <tr>\n      <th>std</th>\n      <td>0.032161</td>\n      <td>0.024305</td>\n      <td>0.613995</td>\n      <td>0.031779</td>\n    </tr>\n  </tbody>\n</table>\n</div>"
     },
     "execution_count": 7,
     "metadata": {},
     "output_type": "execute_result"
    }
   ],
   "source": [
    "print(f'{k}-fold cross validation scores on train dataset:')\n",
    "train_scores"
   ],
   "metadata": {
    "collapsed": false
   }
  },
  {
   "cell_type": "code",
   "execution_count": 8,
   "outputs": [
    {
     "name": "stdout",
     "output_type": "stream",
     "text": [
      "5-fold cross validation scores on validation dataset:\n"
     ]
    },
    {
     "data": {
      "text/plain": "           MSE       MAE      MAPE        R2\nmean  0.223511  0.291779  1.712177  0.781909\nstd   0.062496  0.031417  0.939085  0.045566",
      "text/html": "<div>\n<style scoped>\n    .dataframe tbody tr th:only-of-type {\n        vertical-align: middle;\n    }\n\n    .dataframe tbody tr th {\n        vertical-align: top;\n    }\n\n    .dataframe thead th {\n        text-align: right;\n    }\n</style>\n<table border=\"1\" class=\"dataframe\">\n  <thead>\n    <tr style=\"text-align: right;\">\n      <th></th>\n      <th>MSE</th>\n      <th>MAE</th>\n      <th>MAPE</th>\n      <th>R2</th>\n    </tr>\n  </thead>\n  <tbody>\n    <tr>\n      <th>mean</th>\n      <td>0.223511</td>\n      <td>0.291779</td>\n      <td>1.712177</td>\n      <td>0.781909</td>\n    </tr>\n    <tr>\n      <th>std</th>\n      <td>0.062496</td>\n      <td>0.031417</td>\n      <td>0.939085</td>\n      <td>0.045566</td>\n    </tr>\n  </tbody>\n</table>\n</div>"
     },
     "execution_count": 8,
     "metadata": {},
     "output_type": "execute_result"
    }
   ],
   "source": [
    "print(f'{k}-fold cross validation scores on validation dataset:')\n",
    "valid_scores"
   ],
   "metadata": {
    "collapsed": false
   }
  },
  {
   "cell_type": "code",
   "execution_count": 9,
   "outputs": [],
   "source": [
    "model = kfold.get_best_models()[0]"
   ],
   "metadata": {
    "collapsed": false
   }
  },
  {
   "cell_type": "code",
   "execution_count": 10,
   "outputs": [],
   "source": [
    "y_test_pred = model.predict(X_test)"
   ],
   "metadata": {
    "collapsed": false
   }
  },
  {
   "cell_type": "code",
   "execution_count": 11,
   "outputs": [
    {
     "name": "stdout",
     "output_type": "stream",
     "text": [
      "MSE: 0.8011842676669235\n",
      "MAE: 0.6614837121566636\n",
      "MAPE: 1.7390162335511563\n",
      "R2: 0.4430353568424834\n"
     ]
    }
   ],
   "source": [
    "for metric, metric_fn in DEFAULT_METRICS.items():\n",
    "    print(f'{metric}: {metric_fn(y_test, y_test_pred)}')"
   ],
   "metadata": {
    "collapsed": false
   }
  }
 ],
 "metadata": {
  "kernelspec": {
   "display_name": "Python 3",
   "language": "python",
   "name": "python3"
  },
  "language_info": {
   "codemirror_mode": {
    "name": "ipython",
    "version": 2
   },
   "file_extension": ".py",
   "mimetype": "text/x-python",
   "name": "python",
   "nbconvert_exporter": "python",
   "pygments_lexer": "ipython2",
   "version": "2.7.6"
  }
 },
 "nbformat": 4,
 "nbformat_minor": 0
}
