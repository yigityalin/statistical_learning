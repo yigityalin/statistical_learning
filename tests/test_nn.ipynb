{
 "cells": [
  {
   "cell_type": "code",
   "execution_count": 1,
   "outputs": [],
   "source": [
    "from collections import defaultdict\n",
    "from itertools import product\n",
    "import pickle\n",
    "\n",
    "import matplotlib.pyplot as plt\n",
    "import numpy as np\n",
    "import pandas as pd\n",
    "\n",
    "from algorithms.nn import NeuralNetwork\n",
    "from algorithms.preprocessing import load_and_preprocess_dataset\n",
    "from algorithms.model_selection import DEFAULT_METRICS\n",
    "import config"
   ],
   "metadata": {
    "collapsed": false
   }
  },
  {
   "cell_type": "code",
   "execution_count": 2,
   "outputs": [],
   "source": [
    "X_train, y_train, X_test, y_test = load_and_preprocess_dataset()\n",
    "X_train = np.asarray(X_train)\n",
    "y_train = np.asarray(y_train)\n",
    "X_test = np.asarray(X_test)\n",
    "y_test = np.asarray(y_test)"
   ],
   "metadata": {
    "collapsed": false
   }
  },
  {
   "cell_type": "code",
   "execution_count": 3,
   "outputs": [],
   "source": [
    "ridge_logs_dir = config.LOGS_DIR / 'ridge'\n",
    "nn_logs_dir = config.LOGS_DIR / 'nn'\n",
    "svr_logs_dir = config.LOGS_DIR / 'svr'"
   ],
   "metadata": {
    "collapsed": false
   }
  },
  {
   "cell_type": "code",
   "execution_count": 4,
   "outputs": [],
   "source": [
    "nn_layers_list = [\n",
    "    [32, 1],\n",
    "    [64, 1],\n",
    "    [32, 32, 1],\n",
    "    [64, 64, 1],\n",
    "]\n",
    "nn_alphas = [1e-2, 5e-3, 1e-3, 5e-4]\n",
    "nn_momentums = [0.85, 0.95]\n",
    "nn_batch_sizes = [32, 64]\n",
    "\n",
    "nn_hyperparams = list(product(nn_layers_list, nn_alphas, nn_momentums, nn_batch_sizes))"
   ],
   "metadata": {
    "collapsed": false
   }
  },
  {
   "cell_type": "code",
   "execution_count": 5,
   "outputs": [],
   "source": [
    "nn_scores = []\n",
    "for layers, alpha, momentum, batch_size in nn_hyperparams:\n",
    "    with open(nn_logs_dir / f'alpha_{alpha}-momentum_{momentum}-batch_size_{batch_size}-layers_{\"_\".join([str(x) for x in layers])}.pkl', 'rb') as f:\n",
    "        nn_histories = pickle.load(f)\n",
    "    nn_scores.append(nn_histories)"
   ],
   "metadata": {
    "collapsed": false
   }
  },
  {
   "cell_type": "code",
   "execution_count": 6,
   "outputs": [],
   "source": [
    "nn_last_scores = []\n",
    "\n",
    "for model in nn_scores:\n",
    "    model_last_scores = defaultdict(int)\n",
    "    for fold in model:\n",
    "        for metric in DEFAULT_METRICS.keys():\n",
    "            model_last_scores[f'train_{metric}'] += fold[f'train_{metric}'][-1] / len(model)\n",
    "            model_last_scores[f'valid_{metric}'] += fold[f'valid_{metric}'][-1] / len(model)\n",
    "    nn_last_scores.append(model_last_scores)"
   ],
   "metadata": {
    "collapsed": false
   }
  },
  {
   "cell_type": "code",
   "execution_count": 7,
   "outputs": [],
   "source": [
    "nn_best_score = np.inf\n",
    "nn_best_model_index = -1\n",
    "\n",
    "for i, model in enumerate(nn_last_scores):\n",
    "    if model['valid_MAPE'] < nn_best_score:\n",
    "        nn_best_model_index = i\n",
    "        nn_best_score = model['valid_MAPE']"
   ],
   "metadata": {
    "collapsed": false
   }
  },
  {
   "cell_type": "code",
   "execution_count": 8,
   "outputs": [],
   "source": [
    "valid_nn = {metric: [ls[f'valid_{metric}'] for ls in nn_last_scores] for metric in DEFAULT_METRICS.keys()}"
   ],
   "metadata": {
    "collapsed": false
   }
  },
  {
   "cell_type": "code",
   "execution_count": 9,
   "outputs": [
    {
     "name": "stdout",
     "output_type": "stream",
     "text": [
      "0.2979528316851958 0.17074813144774242\n"
     ]
    }
   ],
   "source": [
    "print(np.mean(valid_nn['MSE']), np.std(valid_nn['MSE']))"
   ],
   "metadata": {
    "collapsed": false
   }
  },
  {
   "cell_type": "code",
   "execution_count": 10,
   "outputs": [
    {
     "data": {
      "text/plain": "<Figure size 432x288 with 1 Axes>",
      "image/png": "[encoded data removed]"
     },
     "metadata": {
      "needs_background": "light"
     },
     "output_type": "display_data"
    }
   ],
   "source": [
    "plt.figure()\n",
    "plt.title('The number of models with a given validation MSE')\n",
    "plt.xlabel('MSE')\n",
    "plt.ylabel('Number of models')\n",
    "plt.hist(valid_nn['MSE'])\n",
    "plt.show()"
   ],
   "metadata": {
    "collapsed": false
   }
  },
  {
   "cell_type": "code",
   "execution_count": 11,
   "outputs": [
    {
     "data": {
      "text/plain": "([64, 64, 1], 0.01, 0.85, 32)"
     },
     "execution_count": 11,
     "metadata": {},
     "output_type": "execute_result"
    }
   ],
   "source": [
    "nn_hyperparams[nn_best_model_index]"
   ],
   "metadata": {
    "collapsed": false
   }
  },
  {
   "cell_type": "code",
   "execution_count": 12,
   "outputs": [
    {
     "name": "stdout",
     "output_type": "stream",
     "text": [
      "train_MSE 0.09611180463463619\n",
      "train_MAE 0.1643162377818863\n",
      "train_MAPE 1.271877502520959\n",
      "train_R2 0.9322010903377901\n"
     ]
    }
   ],
   "source": [
    "for k, v in nn_last_scores[nn_best_model_index].items():\n",
    "    if k.startswith('train'):\n",
    "        print(k, v)"
   ],
   "metadata": {
    "collapsed": false
   }
  },
  {
   "cell_type": "code",
   "execution_count": 13,
   "outputs": [
    {
     "name": "stdout",
     "output_type": "stream",
     "text": [
      "valid_MSE 0.09839532513156464\n",
      "valid_MAE 0.16349986456628834\n",
      "valid_MAPE 0.8987030178740392\n",
      "valid_R2 0.9034182603120198\n"
     ]
    }
   ],
   "source": [
    "for k, v in nn_last_scores[nn_best_model_index].items():\n",
    "    if k.startswith('valid'):\n",
    "        print(k, v)"
   ],
   "metadata": {
    "collapsed": false
   }
  },
  {
   "cell_type": "code",
   "execution_count": 14,
   "outputs": [
    {
     "name": "stderr",
     "output_type": "stream",
     "text": [
      "n_neurons=64-64-1, alpha=0.01, momentum=0.85, batch_size=32: 100%|██████████| 500/500 [01:05<00:00,  7.64it/s, train_mse=0.0415422, valid_mse=0.4606246]\n"
     ]
    }
   ],
   "source": [
    "best_model = NeuralNetwork(n_neurons=[64, 64, 1])\n",
    "history = best_model.fit(X_train, y_train, X_test, y_test, alpha=0.01, batch_size=32, momentum=0.85,epochs=500, patience=50, min_delta=1e-4)"
   ],
   "metadata": {
    "collapsed": false
   }
  },
  {
   "cell_type": "code",
   "execution_count": 15,
   "outputs": [
    {
     "data": {
      "text/plain": "<Figure size 432x288 with 1 Axes>",
      "image/png": "[encoded data removed]"
     },
     "metadata": {
      "needs_background": "light"
     },
     "output_type": "display_data"
    }
   ],
   "source": [
    "h = pd.DataFrame.from_dict(history)[['train_MSE', 'valid_MSE']]\n",
    "h = h.set_axis(['Train MSE', 'Test MSE'], axis=1)\n",
    "h.plot()\n",
    "plt.xlabel('Epochs')\n",
    "plt.ylabel('MSE')\n",
    "plt.title('MSE vs Epoch')\n",
    "plt.show()"
   ],
   "metadata": {
    "collapsed": false
   }
  },
  {
   "cell_type": "code",
   "execution_count": null,
   "outputs": [],
   "source": [],
   "metadata": {
    "collapsed": false
   }
  }
 ],
 "metadata": {
  "kernelspec": {
   "display_name": "Python 3",
   "language": "python",
   "name": "python3"
  },
  "language_info": {
   "codemirror_mode": {
    "name": "ipython",
    "version": 2
   },
   "file_extension": ".py",
   "mimetype": "text/x-python",
   "name": "python",
   "nbconvert_exporter": "python",
   "pygments_lexer": "ipython2",
   "version": "2.7.6"
  }
 },
 "nbformat": 4,
 "nbformat_minor": 0
}
