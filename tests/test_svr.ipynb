{
 "cells": [
  {
   "cell_type": "code",
   "execution_count": 21,
   "metadata": {
    "collapsed": true
   },
   "outputs": [],
   "source": [
    "from collections import defaultdict\n",
    "from itertools import product\n",
    "import pickle\n",
    "\n",
    "import matplotlib.pyplot as plt\n",
    "import numpy as np\n",
    "import pandas as pd\n",
    "\n",
    "from algorithms.svr import SupportVectorRegressor\n",
    "from algorithms.preprocessing import load_and_preprocess_dataset\n",
    "from algorithms.model_selection import DEFAULT_METRICS\n",
    "import config"
   ]
  },
  {
   "cell_type": "code",
   "execution_count": 22,
   "outputs": [],
   "source": [
    "X_train, y_train, X_test, y_test = load_and_preprocess_dataset()"
   ],
   "metadata": {
    "collapsed": false
   }
  },
  {
   "cell_type": "code",
   "execution_count": 23,
   "outputs": [],
   "source": [
    "ridge_logs_dir = config.LOGS_DIR / 'ridge'\n",
    "nn_logs_dir = config.LOGS_DIR / 'nn'\n",
    "svr_logs_dir = config.LOGS_DIR / 'svr'"
   ],
   "metadata": {
    "collapsed": false
   }
  },
  {
   "cell_type": "code",
   "execution_count": 24,
   "outputs": [],
   "source": [
    "hyperparameters = [\n",
    "    (0.1, 0.001, 0.01, 'linear', 0.5),\n",
    "    (0.1, 0.001, 0.01, 'rbf', 0.5),\n",
    "    (0.1, 0.001, 0.001, 'linear', 0.5),\n",
    "    (0.1, 0.001, 0.001, 'rbf', 0.5),\n",
    "    (0.1, 0.001, 0.001, 'rbf', 1),\n",
    "    (0.1, 0.01, 0.01, 'linear', 0.5),\n",
    "    (0.1, 0.01, 0.001, 'rbf', 0.5),\n",
    "    (0.2, 0.001, 0.001, 'rbf', 0.5),\n",
    "    (0.2, 0.001, 0.001, 'rbf', 1),\n",
    "    (0.2, 0.01, 0.001, 'linear', 1),\n",
    "    (0.2, 0.01, 0.001, 'rbf', 1),\n",
    "]"
   ],
   "metadata": {
    "collapsed": false
   }
  },
  {
   "cell_type": "code",
   "execution_count": 25,
   "outputs": [],
   "source": [
    "svr_scores = []\n",
    "for C, epsilon, tolerance, kernel_type, gamma in hyperparameters:\n",
    "    with open(svr_logs_dir / f'C_{C}-epsilon_{epsilon}-tolerance_{tolerance}-kernel_type_{kernel_type}-gamma_{gamma}.pkl', 'rb') as f:\n",
    "        ridge_histories = pickle.load(f)\n",
    "    svr_scores.append(ridge_histories)"
   ],
   "metadata": {
    "collapsed": false
   }
  },
  {
   "cell_type": "code",
   "execution_count": 34,
   "outputs": [],
   "source": [
    "svr_last_scores = []\n",
    "\n",
    "for model in svr_scores:\n",
    "    model_last_scores = defaultdict(int)\n",
    "    for fold in model:\n",
    "        for metric in DEFAULT_METRICS.keys():\n",
    "            model_last_scores[f'train_{metric}'] += fold[f'train_{metric}'][-1] / len(model)\n",
    "            model_last_scores[f'valid_{metric}'] += fold[f'valid_{metric}'][-1] / len(model)\n",
    "    svr_last_scores.append(model_last_scores)"
   ],
   "metadata": {
    "collapsed": false
   }
  },
  {
   "cell_type": "code",
   "execution_count": 35,
   "outputs": [],
   "source": [
    "valid_svr = {metric: [ls[f'valid_{metric}'] for ls in svr_last_scores] for metric in DEFAULT_METRICS.keys()}"
   ],
   "metadata": {
    "collapsed": false
   }
  },
  {
   "cell_type": "code",
   "execution_count": 36,
   "outputs": [
    {
     "data": {
      "text/plain": "<Figure size 432x288 with 1 Axes>",
      "image/png": "[encoded data removed]"
     },
     "metadata": {
      "needs_background": "light"
     },
     "output_type": "display_data"
    }
   ],
   "source": [
    "plt.figure()\n",
    "plt.title('The number of models with a given validation MSE')\n",
    "plt.xlabel('MSE')\n",
    "plt.ylabel('Number of models')\n",
    "plt.hist(valid_svr['MSE'])\n",
    "plt.show()"
   ],
   "metadata": {
    "collapsed": false
   }
  },
  {
   "cell_type": "code",
   "execution_count": 38,
   "outputs": [
    {
     "name": "stdout",
     "output_type": "stream",
     "text": [
      "0.20422637781016342\n"
     ]
    }
   ],
   "source": [
    "print(np.mean(valid_svr['MSE']))"
   ],
   "metadata": {
    "collapsed": false
   }
  },
  {
   "cell_type": "code",
   "execution_count": 39,
   "outputs": [],
   "source": [
    "svr_best_score = np.inf\n",
    "svr_best_model_index = -1\n",
    "\n",
    "for i, model in enumerate(svr_last_scores):\n",
    "    if model['valid_MAPE'] < svr_best_score:\n",
    "        ridge_best_model_index = i\n",
    "        ridge_best_score = model['valid_MAPE']"
   ],
   "metadata": {
    "collapsed": false
   }
  },
  {
   "cell_type": "code",
   "execution_count": 41,
   "outputs": [
    {
     "name": "stdout",
     "output_type": "stream",
     "text": [
      "train_MSE 0.22059964842270924\n",
      "train_MAE 0.14952688085838775\n",
      "train_MAPE 0.3899905503157619\n",
      "train_R2 0.8220526415872558\n"
     ]
    }
   ],
   "source": [
    "for k, v in svr_last_scores[ridge_best_model_index].items():\n",
    "    if k.startswith('train'):\n",
    "        print(k, v)"
   ],
   "metadata": {
    "collapsed": false
   }
  },
  {
   "cell_type": "code",
   "execution_count": 43,
   "outputs": [
    {
     "name": "stdout",
     "output_type": "stream",
     "text": [
      "valid_MSE 0.26656900347798834\n",
      "valid_MAE 0.18925390824181415\n",
      "valid_MAPE 0.5614878388728056\n",
      "valid_R2 0.7821953053473298\n"
     ]
    }
   ],
   "source": [
    "for k, v in svr_last_scores[ridge_best_model_index].items():\n",
    "    if k.startswith('valid'):\n",
    "        print(k, v)"
   ],
   "metadata": {
    "collapsed": false
   }
  },
  {
   "cell_type": "code",
   "execution_count": 46,
   "outputs": [
    {
     "name": "stdout",
     "output_type": "stream",
     "text": [
      "0.20422637781016342 0.0661987186617074\n"
     ]
    }
   ],
   "source": [
    "print(np.mean(valid_svr['MSE']), np.std(valid_svr['MSE']))"
   ],
   "metadata": {
    "collapsed": false
   }
  },
  {
   "cell_type": "code",
   "execution_count": null,
   "outputs": [],
   "source": [],
   "metadata": {
    "collapsed": false
   }
  }
 ],
 "metadata": {
  "kernelspec": {
   "display_name": "Python 3",
   "language": "python",
   "name": "python3"
  },
  "language_info": {
   "codemirror_mode": {
    "name": "ipython",
    "version": 2
   },
   "file_extension": ".py",
   "mimetype": "text/x-python",
   "name": "python",
   "nbconvert_exporter": "python",
   "pygments_lexer": "ipython2",
   "version": "2.7.6"
  }
 },
 "nbformat": 4,
 "nbformat_minor": 0
}
