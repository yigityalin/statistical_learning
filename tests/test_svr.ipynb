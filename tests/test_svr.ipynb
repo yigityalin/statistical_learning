{
 "cells": [
  {
   "cell_type": "code",
   "execution_count": null,
   "metadata": {
    "collapsed": true
   },
   "outputs": [],
   "source": [
    "from collections import defaultdict\n",
    "from itertools import product\n",
    "import pickle\n",
    "\n",
    "import matplotlib.pyplot as plt\n",
    "import numpy as np\n",
    "import pandas as pd\n",
    "\n",
    "from algorithms.svr import SupportVectorRegressor\n",
    "from algorithms.preprocessing import load_and_preprocess_dataset\n",
    "from algorithms.model_selection import DEFAULT_METRICS\n",
    "import config"
   ]
  },
  {
   "cell_type": "code",
   "execution_count": null,
   "outputs": [],
   "source": [
    "X_train, y_train, X_test, y_test = load_and_preprocess_dataset()"
   ],
   "metadata": {
    "collapsed": false
   }
  },
  {
   "cell_type": "code",
   "execution_count": null,
   "outputs": [],
   "source": [
    "X_train = np.asarray(X_train)\n",
    "y_train = np.asarray(y_train)\n",
    "X_test = np.asarray(X_test)\n",
    "y_test = np.asarray(y_test)"
   ],
   "metadata": {
    "collapsed": false
   }
  },
  {
   "cell_type": "code",
   "execution_count": null,
   "outputs": [],
   "source": [
    "ridge_logs_dir = config.LOGS_DIR / 'ridge'\n",
    "nn_logs_dir = config.LOGS_DIR / 'nn'\n",
    "svr_logs_dir = config.LOGS_DIR / 'svr'"
   ],
   "metadata": {
    "collapsed": false
   }
  },
  {
   "cell_type": "code",
   "execution_count": null,
   "outputs": [],
   "source": [
    "hyperparameters = [\n",
    "    (0.1, 0.001, 0.01, 'linear', 0.5),\n",
    "    (0.1, 0.001, 0.01, 'rbf', 0.5),\n",
    "    (0.1, 0.001, 0.001, 'linear', 0.5),\n",
    "    (0.1, 0.001, 0.001, 'rbf', 0.5),\n",
    "    (0.1, 0.001, 0.001, 'rbf', 1),\n",
    "    (0.1, 0.01, 0.01, 'linear', 0.5),\n",
    "    (0.1, 0.01, 0.001, 'rbf', 0.5),\n",
    "    (0.2, 0.001, 0.001, 'rbf', 0.5),\n",
    "    (0.2, 0.001, 0.001, 'rbf', 1),\n",
    "    (0.2, 0.01, 0.001, 'linear', 1),\n",
    "    (0.2, 0.01, 0.001, 'rbf', 1),\n",
    "]"
   ],
   "metadata": {
    "collapsed": false
   }
  },
  {
   "cell_type": "code",
   "execution_count": null,
   "outputs": [],
   "source": [
    "svr_scores = []\n",
    "for C, epsilon, tolerance, kernel_type, gamma in hyperparameters:\n",
    "    with open(svr_logs_dir / f'C_{C}-epsilon_{epsilon}-tolerance_{tolerance}-kernel_type_{kernel_type}-gamma_{gamma}.pkl', 'rb') as f:\n",
    "        ridge_histories = pickle.load(f)\n",
    "    svr_scores.append(ridge_histories)"
   ],
   "metadata": {
    "collapsed": false
   }
  },
  {
   "cell_type": "code",
   "execution_count": null,
   "outputs": [],
   "source": [
    "svr_last_scores = []\n",
    "\n",
    "for model in svr_scores:\n",
    "    model_last_scores = defaultdict(int)\n",
    "    for fold in model:\n",
    "        for metric in DEFAULT_METRICS.keys():\n",
    "            model_last_scores[f'train_{metric}'] += fold[f'train_{metric}'][-1] / len(model)\n",
    "            model_last_scores[f'valid_{metric}'] += fold[f'valid_{metric}'][-1] / len(model)\n",
    "    svr_last_scores.append(model_last_scores)"
   ],
   "metadata": {
    "collapsed": false
   }
  },
  {
   "cell_type": "code",
   "execution_count": null,
   "outputs": [],
   "source": [
    "valid_svr = {metric: [ls[f'valid_{metric}'] for ls in svr_last_scores] for metric in DEFAULT_METRICS.keys()}"
   ],
   "metadata": {
    "collapsed": false
   }
  },
  {
   "cell_type": "code",
   "execution_count": null,
   "outputs": [],
   "source": [
    "plt.figure()\n",
    "plt.title('The number of models with a given validation MSE')\n",
    "plt.xlabel('MSE')\n",
    "plt.ylabel('Number of models')\n",
    "plt.hist(valid_svr['MSE'])\n",
    "plt.show()"
   ],
   "metadata": {
    "collapsed": false
   }
  },
  {
   "cell_type": "code",
   "execution_count": null,
   "outputs": [],
   "source": [
    "print(np.mean(valid_svr['MSE']))"
   ],
   "metadata": {
    "collapsed": false
   }
  },
  {
   "cell_type": "code",
   "execution_count": null,
   "outputs": [],
   "source": [
    "svr_best_score = np.inf\n",
    "svr_best_model_index = -1\n",
    "\n",
    "for i, model in enumerate(svr_last_scores):\n",
    "    if model['valid_MAPE'] < svr_best_score:\n",
    "        svr_best_model_index = i\n",
    "        svr_best_score = model['valid_MAPE']"
   ],
   "metadata": {
    "collapsed": false
   }
  },
  {
   "cell_type": "code",
   "execution_count": null,
   "outputs": [],
   "source": [
    "for k, v in svr_last_scores[svr_best_model_index].items():\n",
    "    if k.startswith('train'):\n",
    "        print(k, v)"
   ],
   "metadata": {
    "collapsed": false
   }
  },
  {
   "cell_type": "code",
   "execution_count": null,
   "outputs": [],
   "source": [
    "for k, v in svr_last_scores[svr_best_model_index].items():\n",
    "    if k.startswith('valid'):\n",
    "        print(k, v)"
   ],
   "metadata": {
    "collapsed": false
   }
  },
  {
   "cell_type": "code",
   "execution_count": null,
   "outputs": [],
   "source": [
    "print(np.mean(valid_svr['MSE']), np.std(valid_svr['MSE']))"
   ],
   "metadata": {
    "collapsed": false
   }
  },
  {
   "cell_type": "code",
   "execution_count": null,
   "outputs": [],
   "source": [
    "best_model_params = hyperparameters[svr_best_model_index]\n",
    "print(best_model_params)"
   ],
   "metadata": {
    "collapsed": false
   }
  },
  {
   "cell_type": "code",
   "execution_count": null,
   "outputs": [],
   "source": [
    "best_model = SupportVectorRegressor(X_train, y_train, C=0.1, epsilon=0.001, tolerance=0.01, kernel_type='rbf', gamma=0.5)\n",
    "history = best_model.fit(X_test, y_test, max_iterations=250)"
   ],
   "metadata": {
    "collapsed": false
   }
  },
  {
   "cell_type": "code",
   "execution_count": null,
   "outputs": [],
   "source": [
    "h = pd.DataFrame.from_dict(history)[['train_MSE', 'valid_MSE']].iloc[:50]\n",
    "h = h.set_axis(['Train MSE', 'Test MSE'], axis=1)\n",
    "h.plot()\n",
    "plt.xlabel('Epochs')\n",
    "plt.ylabel('MSE')\n",
    "plt.title('MSE vs Epoch')\n",
    "plt.show()"
   ],
   "metadata": {
    "collapsed": false
   }
  },
  {
   "cell_type": "code",
   "execution_count": null,
   "outputs": [],
   "source": [
    "history['valid_MSE']"
   ],
   "metadata": {
    "collapsed": false
   }
  },
  {
   "cell_type": "code",
   "execution_count": null,
   "outputs": [],
   "source": [],
   "metadata": {
    "collapsed": false
   }
  }
 ],
 "metadata": {
  "kernelspec": {
   "display_name": "Python 3",
   "language": "python",
   "name": "python3"
  },
  "language_info": {
   "codemirror_mode": {
    "name": "ipython",
    "version": 2
   },
   "file_extension": ".py",
   "mimetype": "text/x-python",
   "name": "python",
   "nbconvert_exporter": "python",
   "pygments_lexer": "ipython2",
   "version": "2.7.6"
  }
 },
 "nbformat": 4,
 "nbformat_minor": 0
}
